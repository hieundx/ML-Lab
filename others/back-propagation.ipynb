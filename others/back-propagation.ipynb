{
 "cells": [
  {
   "cell_type": "code",
   "execution_count": 1,
   "metadata": {},
   "outputs": [],
   "source": [
    "import sympy as sp"
   ]
  },
  {
   "cell_type": "markdown",
   "metadata": {},
   "source": [
    "We have function $J = 2(x^2 + 1)$. Find $\\frac{\\partial{J}}{\\partial{x}}$.\n",
    "\n",
    "$u = x^2$\n",
    "\n",
    "$v = u + 1$\n",
    "\n",
    "$J = 2v$ "
   ]
  },
  {
   "cell_type": "markdown",
   "metadata": {},
   "source": [
    "Step 1: Find `dj_dv`\n",
    "$$\\frac{dj}{dv} = 2$$"
   ]
  },
  {
   "cell_type": "code",
   "execution_count": 26,
   "metadata": {},
   "outputs": [
    {
     "name": "stdout",
     "output_type": "stream",
     "text": [
      "J = 2*v\n"
     ]
    }
   ],
   "source": [
    "J, v = sp.symbols('J,v')\n",
    "\n",
    "J = 2 * v\n",
    "print(f'J = {J}')"
   ]
  },
  {
   "cell_type": "code",
   "execution_count": 27,
   "metadata": {},
   "outputs": [
    {
     "name": "stdout",
     "output_type": "stream",
     "text": [
      "J when v = 1: 2\n",
      "J when v = 2: 4\n"
     ]
    }
   ],
   "source": [
    "print(f'J when v = 1: {J.subs([(v, 1)])}')\n",
    "print(f'J when v = 2: {J.subs([(v, 2)])}')"
   ]
  },
  {
   "cell_type": "code",
   "execution_count": 28,
   "metadata": {},
   "outputs": [
    {
     "name": "stdout",
     "output_type": "stream",
     "text": [
      "Derivative of J w/ respect to v: 2\n"
     ]
    }
   ],
   "source": [
    "dj_dv = sp.diff(J, v)\n",
    "print('Derivative of J w/ respect to v:', dj_dv)"
   ]
  },
  {
   "cell_type": "markdown",
   "metadata": {},
   "source": [
    "Step 2: Find `dv_du`\n",
    "$$\\frac{dj}{dv} = \\frac{dj}{du} \\frac{du}{dv}$$"
   ]
  },
  {
   "cell_type": "code",
   "execution_count": 29,
   "metadata": {},
   "outputs": [],
   "source": [
    "u = sp.symbols('u')\n",
    "v = u + 1\n",
    "\n",
    "dv_du = sp.diff(v, u)"
   ]
  },
  {
   "cell_type": "markdown",
   "metadata": {},
   "source": [
    "Step 3: find `du_dx`"
   ]
  },
  {
   "cell_type": "code",
   "execution_count": 30,
   "metadata": {},
   "outputs": [],
   "source": [
    "x = sp.symbols('x')\n",
    "u = x**2\n",
    "\n",
    "du_dx = sp.diff(u, x)"
   ]
  },
  {
   "cell_type": "markdown",
   "metadata": {},
   "source": [
    "Step 4: Get `dj_dx` by chaining $$\\frac{dj}{dx} = \\frac{du}{dx} \\frac{dv}{du} \\frac{dj}{dv}$$"
   ]
  },
  {
   "cell_type": "code",
   "execution_count": 31,
   "metadata": {},
   "outputs": [],
   "source": [
    "dj_dx = du_dx * dv_du * dj_dv"
   ]
  },
  {
   "cell_type": "code",
   "execution_count": 32,
   "metadata": {},
   "outputs": [
    {
     "data": {
      "text/latex": [
       "$\\displaystyle 4 x$"
      ],
      "text/plain": [
       "4*x"
      ]
     },
     "execution_count": 32,
     "metadata": {},
     "output_type": "execute_result"
    }
   ],
   "source": [
    "dj_dx"
   ]
  },
  {
   "cell_type": "markdown",
   "metadata": {},
   "source": [
    "More complicated example: $J = 3x^3 - 2x^2 + x -1$\n",
    "\n",
    "Let's break it down\n"
   ]
  },
  {
   "cell_type": "markdown",
   "metadata": {},
   "source": [
    "$J = u - 1$\n",
    "\n",
    "$u = a - b + x$\n",
    "\n",
    "$a = 3x^3$\n",
    "\n",
    "$b = 2x^2$"
   ]
  },
  {
   "cell_type": "code",
   "execution_count": 49,
   "metadata": {},
   "outputs": [],
   "source": [
    "J, u, a, b, x = sp.symbols('J,u,a,b,x')\n",
    "\n",
    "J = u - 1\n",
    "dj_du = sp.diff(J, u)\n",
    "\n",
    "u = 3 * a - 3 * b + x\n",
    "\n",
    "a = (x**3)\n",
    "da_dx = sp.diff(a, x)\n",
    "du_da = 3\n",
    "\n",
    "b = (x**2)\n",
    "db_dx = sp.diff(b, x)\n",
    "du_db = 2\n",
    "\n",
    "dx_dx = sp.diff(x, x)\n",
    "\n",
    "# Product Rule\n",
    "du_dx = du_da * da_dx - du_db * db_dx + dx_dx\n",
    "\n",
    "# Chain Rule\n",
    "dj_dx = du_dx * dj_du"
   ]
  },
  {
   "cell_type": "code",
   "execution_count": 50,
   "metadata": {},
   "outputs": [
    {
     "data": {
      "text/latex": [
       "$\\displaystyle 9 x^{2} - 4 x + 1$"
      ],
      "text/plain": [
       "9*x**2 - 4*x + 1"
      ]
     },
     "execution_count": 50,
     "metadata": {},
     "output_type": "execute_result"
    }
   ],
   "source": [
    "dj_dx"
   ]
  }
 ],
 "metadata": {
  "kernelspec": {
   "display_name": "ML",
   "language": "python",
   "name": "python3"
  },
  "language_info": {
   "codemirror_mode": {
    "name": "ipython",
    "version": 3
   },
   "file_extension": ".py",
   "mimetype": "text/x-python",
   "name": "python",
   "nbconvert_exporter": "python",
   "pygments_lexer": "ipython3",
   "version": "3.10.13"
  }
 },
 "nbformat": 4,
 "nbformat_minor": 2
}
