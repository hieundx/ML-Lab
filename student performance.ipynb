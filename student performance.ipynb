{
 "cells": [
  {
   "cell_type": "code",
   "execution_count": 31,
   "id": "f7649013-a099-4bcd-93ad-c28247b6806f",
   "metadata": {},
   "outputs": [],
   "source": [
    "import numpy as np\n",
    "import matplotlib.pyplot as plt\n",
    "import linear_regression as linreg\n",
    "from sklearn.metrics import mean_absolute_error\n",
    "\n",
    "# Load data\n",
    "data = np.loadtxt(\n",
    "    './data/Student_Performance.csv',\n",
    "    delimiter=',',\n",
    "    skiprows=1,\n",
    "    dtype=[\n",
    "        ('Hours Studied', 'float'),\n",
    "        ('Previous Scores', 'float'),\n",
    "        ('Extracurricular Activities', 'U3'),\n",
    "        ('Sleep Hours', 'float'),\n",
    "        ('Sample Question Papers Practiced', 'float'),\n",
    "        ('Performance Index', 'float'),\n",
    "    ]\n",
    ")"
   ]
  },
  {
   "cell_type": "code",
   "execution_count": 32,
   "id": "dc480769-fa07-4ed8-a2eb-6075972c265b",
   "metadata": {},
   "outputs": [
    {
     "name": "stdout",
     "output_type": "stream",
     "text": [
      "[[ 7. 99.  1.  9.  1.]\n",
      " [ 4. 82.  0.  4.  2.]\n",
      " [ 8. 51.  1.  7.  2.]\n",
      " [ 5. 52.  1.  5.  2.]\n",
      " [ 7. 75.  0.  8.  5.]\n",
      " [ 3. 78.  0.  9.  6.]\n",
      " [ 7. 73.  1.  5.  6.]\n",
      " [ 8. 45.  1.  4.  6.]\n",
      " [ 5. 77.  0.  8.  2.]\n",
      " [ 4. 89.  0.  4.  0.]]\n",
      "[91. 65. 45. 36. 66. 61. 63. 42. 61. 69.]\n"
     ]
    }
   ],
   "source": [
    "# Convert data for machine learning\n",
    "def convert_data(raw_data):\n",
    "    m = len(data)\n",
    "    perf_idx = 5\n",
    "    \n",
    "    x_train = np.zeros((m, perf_idx))\n",
    "    y_train = np.zeros(m)\n",
    "    for i in range(m):\n",
    "        entry = data[i]\n",
    "        row = np.zeros(perf_idx)\n",
    "        for j in range(perf_idx):\n",
    "            val = entry[j]\n",
    "            if val == 'Yes':\n",
    "                val = 1\n",
    "            elif val == 'No':\n",
    "                val = 0\n",
    "            row[j] = val\n",
    "        x_train[i] = row\n",
    "        y_train[i] = entry[perf_idx]\n",
    "    return x_train, y_train\n",
    "    \n",
    "x_train, y_train = convert_data(data)\n",
    "\n",
    "print(x_train[0:10])\n",
    "print(y_train[0:10])"
   ]
  },
  {
   "cell_type": "code",
   "execution_count": 33,
   "id": "a50632a2-7c46-4747-8e2c-ed6582fe4181",
   "metadata": {},
   "outputs": [],
   "source": [
    "# OPTIONAL: normalize data\n",
    "mu = np.mean(x_train)\n",
    "sigma = np.std(x_train)\n",
    "\n",
    "x_norm = (x_train - mu)/sigma"
   ]
  },
  {
   "cell_type": "code",
   "execution_count": 34,
   "id": "21528d42-851c-49c2-b6e9-47d4b1cbda7e",
   "metadata": {},
   "outputs": [],
   "source": [
    "# Define initial weights and biases\n",
    "w = np.array(np.random.uniform(0, 20, size=5))\n",
    "b = np.random.uniform(0, 20)"
   ]
  },
  {
   "cell_type": "code",
   "execution_count": 35,
   "id": "39611d54-853a-48be-901c-3ab3bd616e8d",
   "metadata": {},
   "outputs": [
    {
     "name": "stdout",
     "output_type": "stream",
     "text": [
      "[0] 833.1755714491525\n",
      "[100] 19.15927938633998\n",
      "[200] 12.814489810878827\n",
      "[300] 8.884693665855567\n",
      "[400] 6.437400562317028\n",
      "[500] 4.904368501270362\n",
      "[600] 3.9377851116283997\n",
      "[700] 3.323857000017942\n",
      "[800] 2.9306179319396866\n",
      "[900] 2.676265719884513\n"
     ]
    }
   ],
   "source": [
    "# Learning rate was chosen through experimenting with different values\n",
    "# until it becomes too large (cost keeps rising)\n",
    "learning_rate = 0.3\n",
    "num_iter = 1000\n",
    "\n",
    "cost_history, w_res, b_res = linreg.fit(x_norm, y_train, w, b, learning_rate, num_iter)"
   ]
  },
  {
   "cell_type": "code",
   "execution_count": 36,
   "id": "038e04d0-8238-4a0a-9f58-d4ea99183c10",
   "metadata": {},
   "outputs": [
    {
     "name": "stdout",
     "output_type": "stream",
     "text": [
      "Weights and bias found: [70.4024343  28.02352089 -0.56553863  5.98985317  3.67310189], 36.832361954594305, after, 1000 iterations\n"
     ]
    }
   ],
   "source": [
    "print(f'Weights and bias found: {w_res}, {b_res}, after, {len(cost_history)} iterations')"
   ]
  },
  {
   "cell_type": "code",
   "execution_count": 37,
   "id": "b301897d-780c-43fd-bdd3-adc105752077",
   "metadata": {},
   "outputs": [
    {
     "data": {
      "text/plain": [
       "Text(0, 0.5, 'Cost')"
      ]
     },
     "execution_count": 37,
     "metadata": {},
     "output_type": "execute_result"
    },
    {
     "data": {
      "image/png": "[encoded data removed]",
      "text/plain": [
       "<Figure size 640x480 with 1 Axes>"
      ]
     },
     "metadata": {},
     "output_type": "display_data"
    }
   ],
   "source": [
    "# visualize learning process\n",
    "fig, ax = plt.subplots()\n",
    "# discard the first 50 cost values since they drop very quickly\n",
    "ax.plot(np.arange(len(cost_history[50:])), cost_history[50:])\n",
    "ax.set_xlabel(\"Iteration\")\n",
    "ax.set_ylabel(\"Cost\")"
   ]
  },
  {
   "cell_type": "code",
   "execution_count": 38,
   "id": "545faf2e-a123-4f7c-813f-55cb2ed20662",
   "metadata": {},
   "outputs": [
    {
     "name": "stdout",
     "output_type": "stream",
     "text": [
      "90.65  91.00, 0.35\n",
      "64.60  65.00, 0.40\n",
      "43.80  45.00, 1.20\n",
      "36.67  36.00, 0.67\n",
      "66.43  66.00, 0.43\n",
      "59.57  61.00, 1.43\n",
      "63.84  63.00, 0.84\n",
      "37.54  42.00, 4.46\n",
      "62.93  61.00, 1.93\n",
      "71.50  69.00, 2.50\n"
     ]
    }
   ],
   "source": [
    "# test first few predictions\n",
    "\n",
    "def test(X, y, w, b):\n",
    "    m = X[:10].shape[0]\n",
    "    for i in range(m):\n",
    "        prediction = linreg.model(X[i], w, b)\n",
    "        target = y[i]\n",
    "        print('{:.2f}  {:.2f}, {:.2f}'.format(prediction, target, abs(prediction - target)))\n",
    "\n",
    "test(x_norm, y_train, w_res, b_res)"
   ]
  },
  {
   "cell_type": "markdown",
   "id": "3e01faf5-9d70-4860-a5f3-194a27422fd4",
   "metadata": {},
   "source": [
    "Our model is able to predict the performance index quite close to the target values, with single digit errors so far."
   ]
  },
  {
   "cell_type": "code",
   "execution_count": 39,
   "id": "19de7e18-44a3-41f2-93e8-199476d68dce",
   "metadata": {},
   "outputs": [
    {
     "name": "stdout",
     "output_type": "stream",
     "text": [
      "1.780713651636858\n"
     ]
    }
   ],
   "source": [
    "# Evaluate the model\n",
    "m = x_train.shape[0]\n",
    "y_predict = []\n",
    "for i in range(m):\n",
    "    y_predict.append(linreg.model(x_norm[i], w_res, b_res))\n",
    "\n",
    "mae1 = mean_absolute_error(y_predict, y_train)\n",
    "print(mae1)"
   ]
  },
  {
   "cell_type": "markdown",
   "id": "7b6ff006-f87b-43f6-9fd6-b317fef05d20",
   "metadata": {},
   "source": [
    "We can see that the orange areas overlap with most of the graph of the training data. This indicates that our model is able to predict quite well so far."
   ]
  },
  {
   "cell_type": "code",
   "execution_count": 40,
   "id": "ccda9e8e-ba18-4e6c-8598-107e14ccd9ae",
   "metadata": {},
   "outputs": [],
   "source": [
    "# Scikit-Learn implementation\n",
    "from sklearn.linear_model import SGDRegressor\n",
    "from sklearn.preprocessing import StandardScaler\n",
    "\n",
    "scaler = StandardScaler()\n",
    "skx_norm = scaler.fit_transform(x_train)"
   ]
  },
  {
   "cell_type": "code",
   "execution_count": 41,
   "id": "b1986fa6-d315-4c91-8263-75e47c724914",
   "metadata": {},
   "outputs": [
    {
     "name": "stdout",
     "output_type": "stream",
     "text": [
      "SGDRegressor(max_iter=10000)\n",
      "number of iterations completed: 8, number of weight updates: 80001.0\n"
     ]
    }
   ],
   "source": [
    "sgdr = SGDRegressor(max_iter=10000)\n",
    "sgdr.fit(skx_norm, y_train)\n",
    "print(sgdr)\n",
    "print(f\"number of iterations completed: {sgdr.n_iter_}, number of weight updates: {sgdr.t_}\")"
   ]
  },
  {
   "cell_type": "code",
   "execution_count": 42,
   "id": "75bb29ca-af32-42ce-b419-ee788e1ace05",
   "metadata": {},
   "outputs": [
    {
     "name": "stdout",
     "output_type": "stream",
     "text": [
      "model parameters:                   w: [ 7.39014027 17.64529078  0.31628656  0.78807972  0.5912262 ], b:55.181690138056\n"
     ]
    }
   ],
   "source": [
    "b_norm = sgdr.intercept_[0]\n",
    "w_norm = sgdr.coef_\n",
    "print(f\"model parameters:                   w: {w_norm}, b:{b_norm}\")\n"
   ]
  },
  {
   "cell_type": "code",
   "execution_count": 43,
   "id": "65cbc4c6-8da1-422a-b018-307dbc4d65e6",
   "metadata": {},
   "outputs": [
    {
     "name": "stdout",
     "output_type": "stream",
     "text": [
      "91.71  91.00, 0.71\n",
      "63.10  65.00, 1.90\n",
      "45.00  45.00, 0.00\n",
      "36.53  36.00, 0.53\n",
      "67.02  66.00, 1.02\n",
      "59.32  61.00, 1.68\n",
      "64.43  63.00, 1.43\n",
      "38.33  42.00, 3.67\n",
      "62.73  61.00, 1.73\n",
      "69.81  69.00, 0.81\n"
     ]
    }
   ],
   "source": [
    "# test first few predictions\n",
    "test(skx_norm, y_train, w_norm, b_norm)"
   ]
  },
  {
   "cell_type": "code",
   "execution_count": 44,
   "id": "c17cc763-582c-4231-8804-4a5b864596e8",
   "metadata": {},
   "outputs": [
    {
     "name": "stdout",
     "output_type": "stream",
     "text": [
      "1.780713651636858\n"
     ]
    }
   ],
   "source": [
    "# Evaluate the model\n",
    "m = x_train.shape[0]\n",
    "y_predict_sgdr = []\n",
    "for i in range(m):\n",
    "    y_predict_sgdr.append(linreg.model(x_norm[i], w_res, b_res))\n",
    "\n",
    "mae2 = mean_absolute_error(y_predict_sgdr, y_train)\n",
    "print(mae2)"
   ]
  },
  {
   "cell_type": "code",
   "execution_count": 45,
   "id": "3c72b304-5c20-4bee-91c8-014e77023b27",
   "metadata": {},
   "outputs": [
    {
     "name": "stdout",
     "output_type": "stream",
     "text": [
      "MAE of our implementation: 1.78\n",
      "MAE of Scikit-Learn implementation: 1.78\n"
     ]
    }
   ],
   "source": [
    "print('MAE of our implementation: {:.2f}'.format(mae1))\n",
    "print('MAE of Scikit-Learn implementation: {:.2f}'.format(mae1))"
   ]
  },
  {
   "cell_type": "markdown",
   "id": "0ee1a057-e485-4e99-9e77-cc8f9c6a27d8",
   "metadata": {
    "jp-MarkdownHeadingCollapsed": true
   },
   "source": [
    "Our model and Scikit-learn's model have the result. But Scikit-learn runs much faster (instant result vs. couple of minutes)"
   ]
  }
 ],
 "metadata": {
  "kernelspec": {
   "display_name": "Python 3 (ipykernel)",
   "language": "python",
   "name": "python3"
  },
  "language_info": {
   "codemirror_mode": {
    "name": "ipython",
    "version": 3
   },
   "file_extension": ".py",
   "mimetype": "text/x-python",
   "name": "python",
   "nbconvert_exporter": "python",
   "pygments_lexer": "ipython3",
   "version": "3.10.13"
  }
 },
 "nbformat": 4,
 "nbformat_minor": 5
}
