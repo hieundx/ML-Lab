{
 "cells": [
  {
   "cell_type": "code",
   "execution_count": 1,
   "id": "06f9cb79-281e-44a0-ad7a-1b25e8ea7abd",
   "metadata": {},
   "outputs": [],
   "source": [
    "import pandas as pd\n",
    "import numpy as np\n",
    "import matplotlib.pyplot as plt\n",
    "\n",
    "data = pd.read_csv('./data/drug200.csv')"
   ]
  },
  {
   "cell_type": "code",
   "execution_count": 2,
   "id": "77cc6189-aab7-4d35-bed8-80dd3f649634",
   "metadata": {},
   "outputs": [
    {
     "data": {
      "text/html": [
       "<div>\n",
       "<style scoped>\n",
       "    .dataframe tbody tr th:only-of-type {\n",
       "        vertical-align: middle;\n",
       "    }\n",
       "\n",
       "    .dataframe tbody tr th {\n",
       "        vertical-align: top;\n",
       "    }\n",
       "\n",
       "    .dataframe thead th {\n",
       "        text-align: right;\n",
       "    }\n",
       "</style>\n",
       "<table border=\"1\" class=\"dataframe\">\n",
       "  <thead>\n",
       "    <tr style=\"text-align: right;\">\n",
       "      <th></th>\n",
       "      <th>Age</th>\n",
       "      <th>Sex</th>\n",
       "      <th>BP</th>\n",
       "      <th>Cholesterol</th>\n",
       "      <th>Na_to_K</th>\n",
       "      <th>Drug</th>\n",
       "    </tr>\n",
       "  </thead>\n",
       "  <tbody>\n",
       "    <tr>\n",
       "      <th>0</th>\n",
       "      <td>23</td>\n",
       "      <td>F</td>\n",
       "      <td>HIGH</td>\n",
       "      <td>HIGH</td>\n",
       "      <td>25.355</td>\n",
       "      <td>DrugY</td>\n",
       "    </tr>\n",
       "    <tr>\n",
       "      <th>1</th>\n",
       "      <td>47</td>\n",
       "      <td>M</td>\n",
       "      <td>LOW</td>\n",
       "      <td>HIGH</td>\n",
       "      <td>13.093</td>\n",
       "      <td>drugC</td>\n",
       "    </tr>\n",
       "    <tr>\n",
       "      <th>2</th>\n",
       "      <td>47</td>\n",
       "      <td>M</td>\n",
       "      <td>LOW</td>\n",
       "      <td>HIGH</td>\n",
       "      <td>10.114</td>\n",
       "      <td>drugC</td>\n",
       "    </tr>\n",
       "    <tr>\n",
       "      <th>3</th>\n",
       "      <td>28</td>\n",
       "      <td>F</td>\n",
       "      <td>NORMAL</td>\n",
       "      <td>HIGH</td>\n",
       "      <td>7.798</td>\n",
       "      <td>drugX</td>\n",
       "    </tr>\n",
       "    <tr>\n",
       "      <th>4</th>\n",
       "      <td>61</td>\n",
       "      <td>F</td>\n",
       "      <td>LOW</td>\n",
       "      <td>HIGH</td>\n",
       "      <td>18.043</td>\n",
       "      <td>DrugY</td>\n",
       "    </tr>\n",
       "  </tbody>\n",
       "</table>\n",
       "</div>"
      ],
      "text/plain": [
       "   Age Sex      BP Cholesterol  Na_to_K   Drug\n",
       "0   23   F    HIGH        HIGH   25.355  DrugY\n",
       "1   47   M     LOW        HIGH   13.093  drugC\n",
       "2   47   M     LOW        HIGH   10.114  drugC\n",
       "3   28   F  NORMAL        HIGH    7.798  drugX\n",
       "4   61   F     LOW        HIGH   18.043  DrugY"
      ]
     },
     "execution_count": 2,
     "metadata": {},
     "output_type": "execute_result"
    }
   ],
   "source": [
    "data.head()"
   ]
  },
  {
   "cell_type": "code",
   "execution_count": 4,
   "id": "11bbfefa-9880-447f-b75e-05cce0ff4aad",
   "metadata": {},
   "outputs": [],
   "source": [
    "category = dict({\n",
    "    'drugA': 0,\n",
    "    'drugB': 1,\n",
    "    'drugC': 2,\n",
    "    'drugX': 3,\n",
    "    'DrugY': 4,\n",
    "    'M': 5,\n",
    "    'F': 10,\n",
    "    'HIGH': 30,\n",
    "    'LOW': 20,\n",
    "    'NORMAL': 25\n",
    "})\n",
    "\n",
    "def encode_x(x_data):\n",
    "    x_train = []\n",
    "    for x in x_data:\n",
    "        train = []\n",
    "        for j in range(len(x)):\n",
    "            train.append(x[j] if x[j] not in category else category[x[j]])\n",
    "        x_train.append(train)\n",
    "    return np.array(x_train)\n"
   ]
  },
  {
   "cell_type": "code",
   "execution_count": 8,
   "id": "4a0e28a2-8b13-4536-ae51-42602ffd8da0",
   "metadata": {},
   "outputs": [],
   "source": [
    "x_data = np.array(data[['Age', 'Sex', 'BP', 'Cholesterol', 'Na_to_K']])\n",
    "x_train = encode_x(x_data)\n",
    "y_train = np.array(list(map(lambda y: category[y], data['Drug'])))"
   ]
  },
  {
   "cell_type": "code",
   "execution_count": 9,
   "id": "3d6d57ed-e65d-4fb5-b4c3-251a5fb3cb09",
   "metadata": {},
   "outputs": [],
   "source": [
    "import tensorflow as tf\n",
    "from tensorflow.keras.models import Sequential\n",
    "from tensorflow.keras.layers import Dense"
   ]
  },
  {
   "cell_type": "code",
   "execution_count": 10,
   "id": "ae917fb4-06ef-45da-95f3-73c15e4d02e0",
   "metadata": {},
   "outputs": [],
   "source": [
    "def softmax_to_category(sm_out):\n",
    "    return np.argsort(sm_out)[-1]\n",
    "    \n",
    "def predict(x_train, model):\n",
    "    m, n = x_train.shape\n",
    "    y_pred = []\n",
    "    ten_pc = m/10\n",
    "    for i, x in enumerate(x_train):\n",
    "        [prediction] = model.predict(x.reshape(1, n), verbose=0)\n",
    "        y_pred.append(softmax_to_category(prediction))\n",
    "\n",
    "        if i%ten_pc == 0:\n",
    "            # print(f'{round(i/ten_pc * 10)}%', end=' ')\n",
    "            print('▒▒▒', end=(' '))\n",
    "    return np.array(y_pred)"
   ]
  },
  {
   "cell_type": "code",
   "execution_count": 11,
   "id": "df0fdbda-a2f3-4583-9f7b-744004f6a73b",
   "metadata": {},
   "outputs": [],
   "source": [
    "def evaluate(y_pred, y_train):\n",
    "    m, = y_pred.shape\n",
    "    t = 0\n",
    "    for i in range(m):\n",
    "        if y_pred[i] == y_train[i]:\n",
    "            t += 1\n",
    "    print(f'Accuracy: {round(t/m*100, 2)}%')\n",
    "\n",
    "    return t/m"
   ]
  },
  {
   "cell_type": "code",
   "execution_count": 12,
   "id": "9910fc87-e2c1-403c-a8b9-756158d091fc",
   "metadata": {},
   "outputs": [
    {
     "name": "stdout",
     "output_type": "stream",
     "text": [
      "▒▒▒ ▒▒▒ ▒▒▒ ▒▒▒ ▒▒▒ ▒▒▒ ▒▒▒ ▒▒▒ ▒▒▒ ▒▒▒ Accuracy: 90.0%\n"
     ]
    },
    {
     "data": {
      "text/plain": [
       "0.9"
      ]
     },
     "execution_count": 12,
     "metadata": {},
     "output_type": "execute_result"
    }
   ],
   "source": [
    "model = Sequential([\n",
    "        Dense(25, activation='relu'),\n",
    "        Dense(15, activation='relu'),\n",
    "        Dense(5, activation='softmax')\n",
    "    ])\n",
    "    \n",
    "model.compile(\n",
    "    loss = tf.keras.losses.SparseCategoricalCrossentropy(),\n",
    "    optimizer = tf.keras.optimizers.Adam(learning_rate=1e-2),\n",
    ")\n",
    "model.fit(x_train, y_train, epochs=200, verbose=0)\n",
    "y_pred = predict(x_train, model)\n",
    "evaluate(y_pred, y_train)"
   ]
  },
  {
   "cell_type": "markdown",
   "id": "51a091cb-5d9e-477b-8e53-2659b0530d51",
   "metadata": {},
   "source": [
    "Pretty good so far. Let's see how much accuracy we can get with a different encoding."
   ]
  },
  {
   "cell_type": "markdown",
   "id": "a58ee668-4c72-4d46-ba70-fca25553d482",
   "metadata": {},
   "source": [
    "## One-hot encoding"
   ]
  },
  {
   "cell_type": "code",
   "execution_count": 13,
   "id": "718df8ba-21b0-4c0b-b28f-d5cae7eddd68",
   "metadata": {},
   "outputs": [],
   "source": [
    "def encode_onehot(x_data):\n",
    "    x_train = []\n",
    "\n",
    "    for x in x_data:\n",
    "        x_i = []\n",
    "        for j, x_j in enumerate(x):\n",
    "            # 0 is Age and 4 is Na_to_K\n",
    "            if j == 0 or j == 4:\n",
    "                x_i.append(x_j)\n",
    "            # 1 is sex: M or F\n",
    "            elif j == 1:\n",
    "                x_i.append(1 if x_j == 'M' else 0)\n",
    "            # BP: LOW, HIGH, NORMAL\n",
    "            elif j == 2:\n",
    "                x_i.append(1 if x_j == 'LOW' else 0)\n",
    "                x_i.append(1 if x_j == 'NORMAL' else 0)\n",
    "                x_i.append(1 if x_j == 'HIGH' else 0)\n",
    "            # Cholesterol\n",
    "            elif j == 3:\n",
    "                x_i.append(1 if x_j == 'NORMAL' else 0)\n",
    "                x_i.append(1 if x_j == 'HIGH' else 0)\n",
    "            else:\n",
    "                pass\n",
    "        x_train.append(x_i)\n",
    "\n",
    "    return np.array(x_train)"
   ]
  },
  {
   "cell_type": "code",
   "execution_count": 14,
   "id": "7e454128-b508-4b68-a957-430a3ca274e8",
   "metadata": {},
   "outputs": [],
   "source": [
    "x_1h = encode_onehot(x_data)"
   ]
  },
  {
   "cell_type": "code",
   "execution_count": 15,
   "id": "a6d5c26b-e844-4479-b592-26c737ee960c",
   "metadata": {},
   "outputs": [
    {
     "name": "stdout",
     "output_type": "stream",
     "text": [
      "▒▒▒ ▒▒▒ ▒▒▒ ▒▒▒ ▒▒▒ ▒▒▒ ▒▒▒ ▒▒▒ ▒▒▒ ▒▒▒ Accuracy: 97.5%\n"
     ]
    },
    {
     "data": {
      "text/plain": [
       "0.975"
      ]
     },
     "execution_count": 15,
     "metadata": {},
     "output_type": "execute_result"
    }
   ],
   "source": [
    "model = Sequential([\n",
    "        Dense(25, activation='relu'),\n",
    "        Dense(15, activation='relu'),\n",
    "        Dense(5, activation='softmax')\n",
    "    ])\n",
    "    \n",
    "model.compile(\n",
    "    loss = tf.keras.losses.SparseCategoricalCrossentropy(),\n",
    "    optimizer = tf.keras.optimizers.Adam(learning_rate=1e-2),\n",
    ")\n",
    "model.fit(x_1h, y_train, epochs=200, verbose=0)\n",
    "y_pred_1h = predict(x_1h, model)\n",
    "evaluate(y_pred_1h, y_train)"
   ]
  },
  {
   "cell_type": "markdown",
   "id": "b7c1fa8d-8834-4451-a8f5-b1edb772e486",
   "metadata": {},
   "source": [
    "We're able to achive higher accuracy on training set with one-hot encoding."
   ]
  }
 ],
 "metadata": {
  "kernelspec": {
   "display_name": "Python 3 (ipykernel)",
   "language": "python",
   "name": "python3"
  },
  "language_info": {
   "codemirror_mode": {
    "name": "ipython",
    "version": 3
   },
   "file_extension": ".py",
   "mimetype": "text/x-python",
   "name": "python",
   "nbconvert_exporter": "python",
   "pygments_lexer": "ipython3",
   "version": "3.11.7"
  }
 },
 "nbformat": 4,
 "nbformat_minor": 5
}
