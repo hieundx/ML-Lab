{
 "cells": [
  {
   "cell_type": "markdown",
   "id": "3a1c2a38-2fc5-4724-842c-023e24d54d2a",
   "metadata": {},
   "source": [
    "## Data preparation"
   ]
  },
  {
   "cell_type": "code",
   "execution_count": 1,
   "id": "b243783e-10f7-4c93-87ab-7106f842e0f6",
   "metadata": {},
   "outputs": [],
   "source": [
    "import numpy as np\n",
    "import matplotlib.pyplot as plt\n",
    "\n",
    "raw_data = np.loadtxt(\n",
    "    './data/mushrooms.csv',\n",
    "    skiprows=1,\n",
    "    delimiter=',',\n",
    "    dtype='U1'\n",
    ")"
   ]
  },
  {
   "cell_type": "code",
   "execution_count": 2,
   "id": "8db5c535-3ca5-45bb-80ac-bb57338cb1e5",
   "metadata": {},
   "outputs": [],
   "source": [
    "# Each column has a different sets of categorical values\n",
    "# We create a dictionary for each column \n",
    "encoding = list(map(lambda col: dict(), range(raw_data.shape[1])))"
   ]
  },
  {
   "cell_type": "code",
   "execution_count": 3,
   "id": "511b7ce8-5600-4d31-99b4-fb4af3706a42",
   "metadata": {},
   "outputs": [],
   "source": [
    "def convert(raw_data):\n",
    "    # This variable keeps track of the used code\n",
    "    used_code = -1\n",
    "    x_train = []\n",
    "    y_train = []\n",
    "    for i in range(len(raw_data)):\n",
    "        item = raw_data[i]\n",
    "        encoded = []\n",
    "\n",
    "        # Encode the cell value with an integer code\n",
    "        for j in range(len(item)):\n",
    "            cell = item[j]\n",
    "\n",
    "            # The first cell is the training result\n",
    "            # 1 if 'e' (edible), 0 otherwise\n",
    "            if j == 0:\n",
    "                y_train.append(1 if cell == 'e' else 0)\n",
    "                continue\n",
    "\n",
    "            # Check if dictionary has definition for the cell value\n",
    "            # if not, initialize it to the latest unused code\n",
    "            if not cell in encoding[j]:\n",
    "                used_code += 1\n",
    "                encoding[j][cell] = used_code\n",
    "\n",
    "            # Use the encoded value\n",
    "            encoded_value = encoding[j][cell]\n",
    "            encoded.append(encoded_value)\n",
    "            \n",
    "        x_train.append(encoded)\n",
    "    return np.array(x_train), np.array(y_train)\n",
    "    "
   ]
  },
  {
   "cell_type": "code",
   "execution_count": 4,
   "id": "58e70876-3401-484a-aac1-7a845cbf1e64",
   "metadata": {},
   "outputs": [],
   "source": [
    "x_train, y_train = convert(raw_data)"
   ]
  },
  {
   "cell_type": "markdown",
   "id": "8c712939-a9b4-4947-8de3-a3cdbbab306d",
   "metadata": {},
   "source": [
    "## Scikit-learn Logistic Regression"
   ]
  },
  {
   "cell_type": "code",
   "execution_count": 5,
   "id": "07c7ca6c-1bef-4aaf-8957-e82c4512264b",
   "metadata": {},
   "outputs": [
    {
     "data": {
      "text/html": [
       "<style>#sk-container-id-1 {color: black;}#sk-container-id-1 pre{padding: 0;}#sk-container-id-1 div.sk-toggleable {background-color: white;}#sk-container-id-1 label.sk-toggleable__label {cursor: pointer;display: block;width: 100%;margin-bottom: 0;padding: 0.3em;box-sizing: border-box;text-align: center;}#sk-container-id-1 label.sk-toggleable__label-arrow:before {content: \"▸\";float: left;margin-right: 0.25em;color: #696969;}#sk-container-id-1 label.sk-toggleable__label-arrow:hover:before {color: black;}#sk-container-id-1 div.sk-estimator:hover label.sk-toggleable__label-arrow:before {color: black;}#sk-container-id-1 div.sk-toggleable__content {max-height: 0;max-width: 0;overflow: hidden;text-align: left;background-color: #f0f8ff;}#sk-container-id-1 div.sk-toggleable__content pre {margin: 0.2em;color: black;border-radius: 0.25em;background-color: #f0f8ff;}#sk-container-id-1 input.sk-toggleable__control:checked~div.sk-toggleable__content {max-height: 200px;max-width: 100%;overflow: auto;}#sk-container-id-1 input.sk-toggleable__control:checked~label.sk-toggleable__label-arrow:before {content: \"▾\";}#sk-container-id-1 div.sk-estimator input.sk-toggleable__control:checked~label.sk-toggleable__label {background-color: #d4ebff;}#sk-container-id-1 div.sk-label input.sk-toggleable__control:checked~label.sk-toggleable__label {background-color: #d4ebff;}#sk-container-id-1 input.sk-hidden--visually {border: 0;clip: rect(1px 1px 1px 1px);clip: rect(1px, 1px, 1px, 1px);height: 1px;margin: -1px;overflow: hidden;padding: 0;position: absolute;width: 1px;}#sk-container-id-1 div.sk-estimator {font-family: monospace;background-color: #f0f8ff;border: 1px dotted black;border-radius: 0.25em;box-sizing: border-box;margin-bottom: 0.5em;}#sk-container-id-1 div.sk-estimator:hover {background-color: #d4ebff;}#sk-container-id-1 div.sk-parallel-item::after {content: \"\";width: 100%;border-bottom: 1px solid gray;flex-grow: 1;}#sk-container-id-1 div.sk-label:hover label.sk-toggleable__label {background-color: #d4ebff;}#sk-container-id-1 div.sk-serial::before {content: \"\";position: absolute;border-left: 1px solid gray;box-sizing: border-box;top: 0;bottom: 0;left: 50%;z-index: 0;}#sk-container-id-1 div.sk-serial {display: flex;flex-direction: column;align-items: center;background-color: white;padding-right: 0.2em;padding-left: 0.2em;position: relative;}#sk-container-id-1 div.sk-item {position: relative;z-index: 1;}#sk-container-id-1 div.sk-parallel {display: flex;align-items: stretch;justify-content: center;background-color: white;position: relative;}#sk-container-id-1 div.sk-item::before, #sk-container-id-1 div.sk-parallel-item::before {content: \"\";position: absolute;border-left: 1px solid gray;box-sizing: border-box;top: 0;bottom: 0;left: 50%;z-index: -1;}#sk-container-id-1 div.sk-parallel-item {display: flex;flex-direction: column;z-index: 1;position: relative;background-color: white;}#sk-container-id-1 div.sk-parallel-item:first-child::after {align-self: flex-end;width: 50%;}#sk-container-id-1 div.sk-parallel-item:last-child::after {align-self: flex-start;width: 50%;}#sk-container-id-1 div.sk-parallel-item:only-child::after {width: 0;}#sk-container-id-1 div.sk-dashed-wrapped {border: 1px dashed gray;margin: 0 0.4em 0.5em 0.4em;box-sizing: border-box;padding-bottom: 0.4em;background-color: white;}#sk-container-id-1 div.sk-label label {font-family: monospace;font-weight: bold;display: inline-block;line-height: 1.2em;}#sk-container-id-1 div.sk-label-container {text-align: center;}#sk-container-id-1 div.sk-container {/* jupyter's `normalize.less` sets `[hidden] { display: none; }` but bootstrap.min.css set `[hidden] { display: none !important; }` so we also need the `!important` here to be able to override the default hidden behavior on the sphinx rendered scikit-learn.org. See: https://github.com/scikit-learn/scikit-learn/issues/21755 */display: inline-block !important;position: relative;}#sk-container-id-1 div.sk-text-repr-fallback {display: none;}</style><div id=\"sk-container-id-1\" class=\"sk-top-container\"><div class=\"sk-text-repr-fallback\"><pre>LogisticRegression(max_iter=10000)</pre><b>In a Jupyter environment, please rerun this cell to show the HTML representation or trust the notebook. <br />On GitHub, the HTML representation is unable to render, please try loading this page with nbviewer.org.</b></div><div class=\"sk-container\" hidden><div class=\"sk-item\"><div class=\"sk-estimator sk-toggleable\"><input class=\"sk-toggleable__control sk-hidden--visually\" id=\"sk-estimator-id-1\" type=\"checkbox\" checked><label for=\"sk-estimator-id-1\" class=\"sk-toggleable__label sk-toggleable__label-arrow\">LogisticRegression</label><div class=\"sk-toggleable__content\"><pre>LogisticRegression(max_iter=10000)</pre></div></div></div></div></div>"
      ],
      "text/plain": [
       "LogisticRegression(max_iter=10000)"
      ]
     },
     "execution_count": 5,
     "metadata": {},
     "output_type": "execute_result"
    }
   ],
   "source": [
    "from sklearn.linear_model import LogisticRegression\n",
    "logreg = LogisticRegression(max_iter=10000)\n",
    "logreg.fit(x_train, y_train)"
   ]
  },
  {
   "cell_type": "code",
   "execution_count": 6,
   "id": "78b9a4bf-f7cc-45d7-9b02-4a6af3104b0c",
   "metadata": {},
   "outputs": [],
   "source": [
    "y_pred = logreg.predict(x_train)"
   ]
  },
  {
   "cell_type": "code",
   "execution_count": 7,
   "id": "9f95a830-8a27-406f-a956-934c1a605b88",
   "metadata": {},
   "outputs": [
    {
     "data": {
      "text/plain": [
       "array([0, 1, 1, 0, 1, 1, 1, 1, 0, 1])"
      ]
     },
     "execution_count": 7,
     "metadata": {},
     "output_type": "execute_result"
    }
   ],
   "source": [
    "y_pred[:10]"
   ]
  },
  {
   "cell_type": "code",
   "execution_count": 13,
   "id": "ae1280ee-6c30-406b-9857-8dc06692a977",
   "metadata": {},
   "outputs": [],
   "source": [
    "def evaluate(y_pred, y_train):\n",
    "    m = y_pred.shape[0]\n",
    "    \n",
    "    tp = 0\n",
    "    fp = 0\n",
    "    fn = 0\n",
    "    \n",
    "    for i in range(m):\n",
    "        target = y_train[i]\n",
    "        pred = y_pred[i]\n",
    "\n",
    "        if (target == 1 and pred == 1) or (target == 0 and pred == 0):\n",
    "            tp += 1\n",
    "        elif target == 1 and pred == 0:\n",
    "            fn += 1\n",
    "        elif target == 0 and pred == 1:\n",
    "            fp += 1\n",
    "            \n",
    "    tp_rate = round(tp / (len(y_train)) * 100, 2)\n",
    "    fp_rate = round(fp / (len(y_train)) * 100, 2)\n",
    "    fn_rate = round(fn / (len(y_train)) * 100, 2)\n",
    "\n",
    "    print(f'Accuracy: {tp_rate}%')\n",
    "    print(f'False positives: {fp_rate}%')\n",
    "    print(f'False negatives: {fn_rate}%')\n",
    "    \n",
    "    return tp_rate, fp_rate, fn_rate\n",
    "        "
   ]
  },
  {
   "cell_type": "code",
   "execution_count": 14,
   "id": "bf103239-0bdd-41d9-8835-32609ee6fdda",
   "metadata": {},
   "outputs": [
    {
     "name": "stdout",
     "output_type": "stream",
     "text": [
      "Accuracy: 100.0%\n",
      "False positives: 0.0%\n",
      "False negatives: 0.0%\n"
     ]
    },
    {
     "data": {
      "text/plain": [
       "(100.0, 0.0, 0.0)"
      ]
     },
     "execution_count": 14,
     "metadata": {},
     "output_type": "execute_result"
    }
   ],
   "source": [
    "evaluate(y_pred, y_train)"
   ]
  },
  {
   "cell_type": "markdown",
   "id": "28afd07c-29b0-4b7e-babd-7c34197552de",
   "metadata": {},
   "source": [
    "## TensorFlow Implementation"
   ]
  },
  {
   "cell_type": "code",
   "execution_count": 10,
   "id": "6388f21f-6f85-4115-aadd-cb2c252fab3d",
   "metadata": {},
   "outputs": [],
   "source": [
    "import tensorflow as tf\n",
    "from tensorflow.keras.models import Sequential\n",
    "from tensorflow.keras.layers import Dense"
   ]
  },
  {
   "cell_type": "code",
   "execution_count": 11,
   "id": "c7240f28-a177-45cb-920e-a91ea25d6bd9",
   "metadata": {},
   "outputs": [],
   "source": [
    "# Binary classification task needs only one single-unit layer\n",
    "model = Sequential([\n",
    "    Dense(1, activation='sigmoid')\n",
    "])\n",
    "\n",
    "model.compile(\n",
    "    loss = tf.keras.losses.BinaryCrossentropy(),\n",
    ")"
   ]
  },
  {
   "cell_type": "code",
   "execution_count": 12,
   "id": "38113a7b-8894-4ac8-8150-cb47ba150ea2",
   "metadata": {},
   "outputs": [
    {
     "name": "stdout",
     "output_type": "stream",
     "text": [
      "Epoch 1/20\n",
      "254/254 [==============================] - 0s 674us/step - loss: 14.6300\n",
      "Epoch 2/20\n",
      "254/254 [==============================] - 0s 658us/step - loss: 2.9378\n",
      "Epoch 3/20\n",
      "254/254 [==============================] - 0s 645us/step - loss: 1.1434\n",
      "Epoch 4/20\n",
      "254/254 [==============================] - 0s 665us/step - loss: 0.6137\n",
      "Epoch 5/20\n",
      "254/254 [==============================] - 0s 637us/step - loss: 0.3414\n",
      "Epoch 6/20\n",
      "254/254 [==============================] - 0s 650us/step - loss: 0.1930\n",
      "Epoch 7/20\n",
      "254/254 [==============================] - 0s 691us/step - loss: 0.1290\n",
      "Epoch 8/20\n",
      "254/254 [==============================] - 0s 674us/step - loss: 0.0950\n",
      "Epoch 9/20\n",
      "254/254 [==============================] - 0s 633us/step - loss: 0.0731\n",
      "Epoch 10/20\n",
      "254/254 [==============================] - 0s 633us/step - loss: 0.0596\n",
      "Epoch 11/20\n",
      "254/254 [==============================] - 0s 621us/step - loss: 0.0510\n",
      "Epoch 12/20\n",
      "254/254 [==============================] - 0s 645us/step - loss: 0.0451\n",
      "Epoch 13/20\n",
      "254/254 [==============================] - 0s 618us/step - loss: 0.0403\n",
      "Epoch 14/20\n",
      "254/254 [==============================] - 0s 645us/step - loss: 0.0365\n",
      "Epoch 15/20\n",
      "254/254 [==============================] - 0s 637us/step - loss: 0.0334\n",
      "Epoch 16/20\n",
      "254/254 [==============================] - 0s 625us/step - loss: 0.0306\n",
      "Epoch 17/20\n",
      "254/254 [==============================] - 0s 630us/step - loss: 0.0289\n",
      "Epoch 18/20\n",
      "254/254 [==============================] - 0s 626us/step - loss: 0.0273\n",
      "Epoch 19/20\n",
      "254/254 [==============================] - 0s 646us/step - loss: 0.0259\n",
      "Epoch 20/20\n",
      "254/254 [==============================] - 0s 650us/step - loss: 0.0244\n"
     ]
    },
    {
     "data": {
      "text/plain": [
       "<keras.src.callbacks.History at 0x1ce43c66c10>"
      ]
     },
     "execution_count": 12,
     "metadata": {},
     "output_type": "execute_result"
    }
   ],
   "source": [
    "model.fit(x_train, y_train, epochs=20)"
   ]
  },
  {
   "cell_type": "code",
   "execution_count": 13,
   "id": "e26e04e7-030f-4900-974c-67fe0720a2ec",
   "metadata": {},
   "outputs": [
    {
     "name": "stdout",
     "output_type": "stream",
     "text": [
      "1/1 [==============================] - 0s 60ms/step\n"
     ]
    },
    {
     "data": {
      "text/plain": [
       "array([[0.17370944]], dtype=float32)"
      ]
     },
     "execution_count": 13,
     "metadata": {},
     "output_type": "execute_result"
    }
   ],
   "source": [
    "model.predict(x_train[0].reshape(1, x_train[0].shape[0]))"
   ]
  },
  {
   "cell_type": "code",
   "execution_count": 14,
   "id": "b312a2af-5ea5-464e-812a-bd92b3ccf456",
   "metadata": {},
   "outputs": [],
   "source": [
    "def predict(x_train, model):\n",
    "    # number of features\n",
    "    n = x_train[0].shape[0]\n",
    "    pred = []\n",
    "\n",
    "    ten_pc = round(len(x_train)/10)\n",
    "    \n",
    "    for i, x in enumerate(x_train):\n",
    "        y = model.predict(x.reshape(1, n), verbose=0)\n",
    "        pred.append(1 if y >= 0.5 else 0)\n",
    "\n",
    "        if i%ten_pc == 0:\n",
    "            print(f'{round(i/ten_pc*10, 3)}% done')\n",
    "    print('Finished')\n",
    "    return np.array(pred)        "
   ]
  },
  {
   "cell_type": "code",
   "execution_count": 15,
   "id": "8e4af70f-07f8-4adf-b1b7-fb8c475cb514",
   "metadata": {},
   "outputs": [
    {
     "name": "stdout",
     "output_type": "stream",
     "text": [
      "0% done\n",
      "10% done\n",
      "20% done\n",
      "30% done\n",
      "40% done\n",
      "50% done\n",
      "60% done\n",
      "70% done\n",
      "80% done\n",
      "90% done\n",
      "100% done\n",
      "Finished\n"
     ]
    }
   ],
   "source": [
    "y_pred_tf = predict(x_train, model)"
   ]
  },
  {
   "cell_type": "code",
   "execution_count": 16,
   "id": "faa5e156-14bc-4a51-ac57-684395af75bd",
   "metadata": {},
   "outputs": [
    {
     "name": "stdout",
     "output_type": "stream",
     "text": [
      "Accuracy: 100%\n",
      "False positives: 0%\n",
      "False negatives: 0%\n"
     ]
    },
    {
     "data": {
      "text/plain": [
       "(100, 0, 0)"
      ]
     },
     "execution_count": 16,
     "metadata": {},
     "output_type": "execute_result"
    }
   ],
   "source": [
    "evaluate(y_pred_tf, y_train)"
   ]
  },
  {
   "cell_type": "markdown",
   "id": "b1830464-f4a2-439f-b92a-1cd1a5e53809",
   "metadata": {},
   "source": [
    "## Numpy implementation using NN's weights"
   ]
  },
  {
   "cell_type": "code",
   "execution_count": 17,
   "id": "da0a84de-b76b-43d0-9b44-75fa1f694509",
   "metadata": {},
   "outputs": [
    {
     "name": "stdout",
     "output_type": "stream",
     "text": [
      "Model: \"sequential\"\n",
      "_________________________________________________________________\n",
      " Layer (type)                Output Shape              Param #   \n",
      "=================================================================\n",
      " dense (Dense)               (None, 1)                 23        \n",
      "                                                                 \n",
      "=================================================================\n",
      "Total params: 23 (92.00 Byte)\n",
      "Trainable params: 23 (92.00 Byte)\n",
      "Non-trainable params: 0 (0.00 Byte)\n",
      "_________________________________________________________________\n"
     ]
    }
   ],
   "source": [
    "model.summary()"
   ]
  },
  {
   "cell_type": "code",
   "execution_count": 21,
   "id": "dd478af8-736f-4543-ae1a-bb76f72c2171",
   "metadata": {},
   "outputs": [
    {
     "name": "stdout",
     "output_type": "stream",
     "text": [
      "[[ 2.5702571e-04]\n",
      " [ 1.5553305e-02]\n",
      " [-4.9238619e-03]\n",
      " [ 4.2984885e-01]\n",
      " [-3.4207046e-01]\n",
      " [ 1.7485227e-01]\n",
      " [ 1.3823950e-01]\n",
      " [ 7.6096708e-01]\n",
      " [-4.1990492e-02]\n",
      " [ 1.1169981e-01]\n",
      " [ 1.1099790e-01]\n",
      " [-1.1303192e-01]\n",
      " [-3.3313517e-02]\n",
      " [-2.8390538e-02]\n",
      " [-6.7457347e-03]\n",
      " [-2.1528155e-01]\n",
      " [-2.7276477e-01]\n",
      " [-2.8869358e-03]\n",
      " [-4.9366575e-02]\n",
      " [-7.3915854e-02]\n",
      " [ 4.4026230e-02]\n",
      " [ 6.8315126e-02]] [-0.5693278]\n"
     ]
    }
   ],
   "source": [
    "layer = model.get_layer('dense')\n",
    "w, b = layer.get_weights()\n",
    "print(w, b)"
   ]
  },
  {
   "cell_type": "code",
   "execution_count": 30,
   "id": "734912d0-5543-4a04-8223-35e6959b6627",
   "metadata": {},
   "outputs": [
    {
     "name": "stdout",
     "output_type": "stream",
     "text": [
      "[ 2.5702571e-04  1.5553305e-02 -4.9238619e-03  4.2984885e-01\n",
      " -3.4207046e-01  1.7485227e-01  1.3823950e-01  7.6096708e-01\n",
      " -4.1990492e-02  1.1169981e-01  1.1099790e-01 -1.1303192e-01\n",
      " -3.3313517e-02 -2.8390538e-02 -6.7457347e-03 -2.1528155e-01\n",
      " -2.7276477e-01 -2.8869358e-03 -4.9366575e-02 -7.3915854e-02\n",
      "  4.4026230e-02  6.8315126e-02] -0.5693278\n"
     ]
    }
   ],
   "source": [
    "w_t = w[:, 0]\n",
    "b_t = b[0]\n",
    "print(w_t, b_t)"
   ]
  },
  {
   "cell_type": "code",
   "execution_count": 79,
   "id": "37cff697-1140-4abe-835b-d86afbc05f88",
   "metadata": {},
   "outputs": [],
   "source": [
    "sigmoid = lambda z: 1/(1 + np.exp(-z))\n",
    "y_pred_np = np.array(list(map(lambda x: 1 if sigmoid(w_t @ x + b) >= 0.5 else 0, x_train)))"
   ]
  },
  {
   "cell_type": "code",
   "execution_count": 80,
   "id": "555d32e5-30da-42ef-837b-5b2e46441214",
   "metadata": {},
   "outputs": [
    {
     "name": "stdout",
     "output_type": "stream",
     "text": [
      "Accuracy: 100%\n",
      "False positives: 0%\n",
      "False negatives: 0%\n"
     ]
    },
    {
     "data": {
      "text/plain": [
       "(100, 0, 0)"
      ]
     },
     "execution_count": 80,
     "metadata": {},
     "output_type": "execute_result"
    }
   ],
   "source": [
    "evaluate(y_pred_np, y_train)"
   ]
  }
 ],
 "metadata": {
  "kernelspec": {
   "display_name": "Python 3 (ipykernel)",
   "language": "python",
   "name": "python3"
  },
  "language_info": {
   "codemirror_mode": {
    "name": "ipython",
    "version": 3
   },
   "file_extension": ".py",
   "mimetype": "text/x-python",
   "name": "python",
   "nbconvert_exporter": "python",
   "pygments_lexer": "ipython3",
   "version": "3.11.7"
  }
 },
 "nbformat": 4,
 "nbformat_minor": 5
}
