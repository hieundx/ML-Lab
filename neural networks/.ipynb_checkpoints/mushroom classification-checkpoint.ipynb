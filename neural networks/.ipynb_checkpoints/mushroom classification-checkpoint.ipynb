{
 "cells": [
  {
   "cell_type": "markdown",
   "id": "3a1c2a38-2fc5-4724-842c-023e24d54d2a",
   "metadata": {},
   "source": [
    "## Data preparation"
   ]
  },
  {
   "cell_type": "code",
   "execution_count": 1,
   "id": "b243783e-10f7-4c93-87ab-7106f842e0f6",
   "metadata": {},
   "outputs": [],
   "source": [
    "import numpy as np\n",
    "import matplotlib.pyplot as plt\n",
    "import pandas as pd\n",
    "\n",
    "raw_data = pd.read_csv(\n",
    "    './data/mushrooms.csv',\n",
    ")"
   ]
  },
  {
   "cell_type": "code",
   "execution_count": 43,
   "id": "789a73b7-b1e0-4e1d-88e4-9b047cb75cb6",
   "metadata": {},
   "outputs": [],
   "source": [
    "x_train = pd.get_dummies(raw_data.iloc[:,1:])\n",
    "x_train = np.array(x_train)\n",
    "\n",
    "y_train = raw_data.iloc[:,0].apply(lambda y: 1 if y == 'e' else 0)\n",
    "y_train = np.array(y_train)"
   ]
  },
  {
   "cell_type": "markdown",
   "id": "8c712939-a9b4-4947-8de3-a3cdbbab306d",
   "metadata": {},
   "source": [
    "## Scikit-learn Logistic Regression"
   ]
  },
  {
   "cell_type": "code",
   "execution_count": 44,
   "id": "07c7ca6c-1bef-4aaf-8957-e82c4512264b",
   "metadata": {},
   "outputs": [
    {
     "data": {
      "text/html": [
       "<style>#sk-container-id-3 {color: black;}#sk-container-id-3 pre{padding: 0;}#sk-container-id-3 div.sk-toggleable {background-color: white;}#sk-container-id-3 label.sk-toggleable__label {cursor: pointer;display: block;width: 100%;margin-bottom: 0;padding: 0.3em;box-sizing: border-box;text-align: center;}#sk-container-id-3 label.sk-toggleable__label-arrow:before {content: \"▸\";float: left;margin-right: 0.25em;color: #696969;}#sk-container-id-3 label.sk-toggleable__label-arrow:hover:before {color: black;}#sk-container-id-3 div.sk-estimator:hover label.sk-toggleable__label-arrow:before {color: black;}#sk-container-id-3 div.sk-toggleable__content {max-height: 0;max-width: 0;overflow: hidden;text-align: left;background-color: #f0f8ff;}#sk-container-id-3 div.sk-toggleable__content pre {margin: 0.2em;color: black;border-radius: 0.25em;background-color: #f0f8ff;}#sk-container-id-3 input.sk-toggleable__control:checked~div.sk-toggleable__content {max-height: 200px;max-width: 100%;overflow: auto;}#sk-container-id-3 input.sk-toggleable__control:checked~label.sk-toggleable__label-arrow:before {content: \"▾\";}#sk-container-id-3 div.sk-estimator input.sk-toggleable__control:checked~label.sk-toggleable__label {background-color: #d4ebff;}#sk-container-id-3 div.sk-label input.sk-toggleable__control:checked~label.sk-toggleable__label {background-color: #d4ebff;}#sk-container-id-3 input.sk-hidden--visually {border: 0;clip: rect(1px 1px 1px 1px);clip: rect(1px, 1px, 1px, 1px);height: 1px;margin: -1px;overflow: hidden;padding: 0;position: absolute;width: 1px;}#sk-container-id-3 div.sk-estimator {font-family: monospace;background-color: #f0f8ff;border: 1px dotted black;border-radius: 0.25em;box-sizing: border-box;margin-bottom: 0.5em;}#sk-container-id-3 div.sk-estimator:hover {background-color: #d4ebff;}#sk-container-id-3 div.sk-parallel-item::after {content: \"\";width: 100%;border-bottom: 1px solid gray;flex-grow: 1;}#sk-container-id-3 div.sk-label:hover label.sk-toggleable__label {background-color: #d4ebff;}#sk-container-id-3 div.sk-serial::before {content: \"\";position: absolute;border-left: 1px solid gray;box-sizing: border-box;top: 0;bottom: 0;left: 50%;z-index: 0;}#sk-container-id-3 div.sk-serial {display: flex;flex-direction: column;align-items: center;background-color: white;padding-right: 0.2em;padding-left: 0.2em;position: relative;}#sk-container-id-3 div.sk-item {position: relative;z-index: 1;}#sk-container-id-3 div.sk-parallel {display: flex;align-items: stretch;justify-content: center;background-color: white;position: relative;}#sk-container-id-3 div.sk-item::before, #sk-container-id-3 div.sk-parallel-item::before {content: \"\";position: absolute;border-left: 1px solid gray;box-sizing: border-box;top: 0;bottom: 0;left: 50%;z-index: -1;}#sk-container-id-3 div.sk-parallel-item {display: flex;flex-direction: column;z-index: 1;position: relative;background-color: white;}#sk-container-id-3 div.sk-parallel-item:first-child::after {align-self: flex-end;width: 50%;}#sk-container-id-3 div.sk-parallel-item:last-child::after {align-self: flex-start;width: 50%;}#sk-container-id-3 div.sk-parallel-item:only-child::after {width: 0;}#sk-container-id-3 div.sk-dashed-wrapped {border: 1px dashed gray;margin: 0 0.4em 0.5em 0.4em;box-sizing: border-box;padding-bottom: 0.4em;background-color: white;}#sk-container-id-3 div.sk-label label {font-family: monospace;font-weight: bold;display: inline-block;line-height: 1.2em;}#sk-container-id-3 div.sk-label-container {text-align: center;}#sk-container-id-3 div.sk-container {/* jupyter's `normalize.less` sets `[hidden] { display: none; }` but bootstrap.min.css set `[hidden] { display: none !important; }` so we also need the `!important` here to be able to override the default hidden behavior on the sphinx rendered scikit-learn.org. See: https://github.com/scikit-learn/scikit-learn/issues/21755 */display: inline-block !important;position: relative;}#sk-container-id-3 div.sk-text-repr-fallback {display: none;}</style><div id=\"sk-container-id-3\" class=\"sk-top-container\"><div class=\"sk-text-repr-fallback\"><pre>LogisticRegression(max_iter=10000)</pre><b>In a Jupyter environment, please rerun this cell to show the HTML representation or trust the notebook. <br />On GitHub, the HTML representation is unable to render, please try loading this page with nbviewer.org.</b></div><div class=\"sk-container\" hidden><div class=\"sk-item\"><div class=\"sk-estimator sk-toggleable\"><input class=\"sk-toggleable__control sk-hidden--visually\" id=\"sk-estimator-id-3\" type=\"checkbox\" checked><label for=\"sk-estimator-id-3\" class=\"sk-toggleable__label sk-toggleable__label-arrow\">LogisticRegression</label><div class=\"sk-toggleable__content\"><pre>LogisticRegression(max_iter=10000)</pre></div></div></div></div></div>"
      ],
      "text/plain": [
       "LogisticRegression(max_iter=10000)"
      ]
     },
     "execution_count": 44,
     "metadata": {},
     "output_type": "execute_result"
    }
   ],
   "source": [
    "from sklearn.linear_model import LogisticRegression\n",
    "logreg = LogisticRegression(max_iter=10000)\n",
    "logreg.fit(x_train, y_train)"
   ]
  },
  {
   "cell_type": "code",
   "execution_count": 45,
   "id": "78b9a4bf-f7cc-45d7-9b02-4a6af3104b0c",
   "metadata": {},
   "outputs": [],
   "source": [
    "y_pred = logreg.predict(x_train)"
   ]
  },
  {
   "cell_type": "code",
   "execution_count": 70,
   "id": "e620202a-3774-41fe-b51e-2c54555378fe",
   "metadata": {},
   "outputs": [],
   "source": [
    "def eval(y_pred, y_train):\n",
    "    print(f'Misclassification: {round(np.mean(y_pred != y_train), 2)}%')\n",
    "    "
   ]
  },
  {
   "cell_type": "code",
   "execution_count": 71,
   "id": "66a659eb-3309-4703-811a-67a3096f667d",
   "metadata": {},
   "outputs": [
    {
     "name": "stdout",
     "output_type": "stream",
     "text": [
      "Misclassification: 0.0%\n"
     ]
    }
   ],
   "source": [
    "eval(y_pred, y_train)"
   ]
  },
  {
   "cell_type": "markdown",
   "id": "28afd07c-29b0-4b7e-babd-7c34197552de",
   "metadata": {},
   "source": [
    "## TensorFlow Implementation"
   ]
  },
  {
   "cell_type": "code",
   "execution_count": 53,
   "id": "6388f21f-6f85-4115-aadd-cb2c252fab3d",
   "metadata": {},
   "outputs": [],
   "source": [
    "import tensorflow as tf\n",
    "from tensorflow.keras.models import Sequential\n",
    "from tensorflow.keras.layers import Dense"
   ]
  },
  {
   "cell_type": "code",
   "execution_count": 108,
   "id": "c7240f28-a177-45cb-920e-a91ea25d6bd9",
   "metadata": {},
   "outputs": [],
   "source": [
    "# Binary classification task needs only one single-unit layer\n",
    "model = Sequential([\n",
    "    Dense(1, activation='sigmoid', name='dense')\n",
    "])\n",
    "\n",
    "model.compile(\n",
    "    loss = tf.keras.losses.BinaryCrossentropy(),\n",
    ")"
   ]
  },
  {
   "cell_type": "code",
   "execution_count": 109,
   "id": "38113a7b-8894-4ac8-8150-cb47ba150ea2",
   "metadata": {},
   "outputs": [
    {
     "name": "stdout",
     "output_type": "stream",
     "text": [
      "Epoch 1/20\n",
      "254/254 [==============================] - 0s 665us/step - loss: 0.4293\n",
      "Epoch 2/20\n",
      "254/254 [==============================] - 0s 673us/step - loss: 0.2124\n",
      "Epoch 3/20\n",
      "254/254 [==============================] - 0s 660us/step - loss: 0.1342\n",
      "Epoch 4/20\n",
      "254/254 [==============================] - 0s 711us/step - loss: 0.0948\n",
      "Epoch 5/20\n",
      "254/254 [==============================] - 0s 817us/step - loss: 0.0718\n",
      "Epoch 6/20\n",
      "254/254 [==============================] - 0s 668us/step - loss: 0.0565\n",
      "Epoch 7/20\n",
      "254/254 [==============================] - 0s 668us/step - loss: 0.0458\n",
      "Epoch 8/20\n",
      "254/254 [==============================] - 0s 647us/step - loss: 0.0378\n",
      "Epoch 9/20\n",
      "254/254 [==============================] - 0s 635us/step - loss: 0.0317\n",
      "Epoch 10/20\n",
      "254/254 [==============================] - 0s 647us/step - loss: 0.0270\n",
      "Epoch 11/20\n",
      "254/254 [==============================] - 0s 663us/step - loss: 0.0232\n",
      "Epoch 12/20\n",
      "254/254 [==============================] - 0s 635us/step - loss: 0.0200\n",
      "Epoch 13/20\n",
      "254/254 [==============================] - 0s 650us/step - loss: 0.0176\n",
      "Epoch 14/20\n",
      "254/254 [==============================] - 0s 966us/step - loss: 0.0155\n",
      "Epoch 15/20\n",
      "254/254 [==============================] - 0s 747us/step - loss: 0.0136\n",
      "Epoch 16/20\n",
      "254/254 [==============================] - 0s 757us/step - loss: 0.0121\n",
      "Epoch 17/20\n",
      "254/254 [==============================] - 0s 665us/step - loss: 0.0108\n",
      "Epoch 18/20\n",
      "254/254 [==============================] - 0s 661us/step - loss: 0.0096\n",
      "Epoch 19/20\n",
      "254/254 [==============================] - 0s 685us/step - loss: 0.0086\n",
      "Epoch 20/20\n",
      "254/254 [==============================] - 0s 676us/step - loss: 0.0078\n"
     ]
    },
    {
     "data": {
      "text/plain": [
       "<keras.src.callbacks.History at 0x1b113f4ecd0>"
      ]
     },
     "execution_count": 109,
     "metadata": {},
     "output_type": "execute_result"
    }
   ],
   "source": [
    "model.fit(x_train, y_train, epochs=20)"
   ]
  },
  {
   "cell_type": "code",
   "execution_count": 110,
   "id": "bb469d5e-7824-4ad8-b47e-643409eb8f6d",
   "metadata": {},
   "outputs": [
    {
     "name": "stdout",
     "output_type": "stream",
     "text": [
      "254/254 [==============================] - 0s 534us/step\n"
     ]
    }
   ],
   "source": [
    "yhat = model.predict(x_train)\n",
    "y_pred_tf = np.where(y_hat >= 0.5, 1, 0)\n",
    "y_pred_tf = y_pred_tf.reshape(y_pred_tf.shape[0],)"
   ]
  },
  {
   "cell_type": "code",
   "execution_count": 111,
   "id": "faa5e156-14bc-4a51-ac57-684395af75bd",
   "metadata": {},
   "outputs": [
    {
     "name": "stdout",
     "output_type": "stream",
     "text": [
      "Misclassification: 0.0%\n"
     ]
    }
   ],
   "source": [
    "eval(y_pred_tf, y_train)"
   ]
  },
  {
   "cell_type": "markdown",
   "id": "b1830464-f4a2-439f-b92a-1cd1a5e53809",
   "metadata": {},
   "source": [
    "## Numpy implementation using NN's weights"
   ]
  },
  {
   "cell_type": "code",
   "execution_count": 112,
   "id": "da0a84de-b76b-43d0-9b44-75fa1f694509",
   "metadata": {},
   "outputs": [
    {
     "name": "stdout",
     "output_type": "stream",
     "text": [
      "Model: \"sequential_2\"\n",
      "_________________________________________________________________\n",
      " Layer (type)                Output Shape              Param #   \n",
      "=================================================================\n",
      " dense (Dense)               (None, 1)                 118       \n",
      "                                                                 \n",
      "=================================================================\n",
      "Total params: 118 (472.00 Byte)\n",
      "Trainable params: 118 (472.00 Byte)\n",
      "Non-trainable params: 0 (0.00 Byte)\n",
      "_________________________________________________________________\n"
     ]
    }
   ],
   "source": [
    "model.summary()"
   ]
  },
  {
   "cell_type": "code",
   "execution_count": 118,
   "id": "dd478af8-736f-4543-ae1a-bb76f72c2171",
   "metadata": {},
   "outputs": [],
   "source": [
    "layer = model.get_layer('dense')\n",
    "w, b = layer.get_weights()"
   ]
  },
  {
   "cell_type": "code",
   "execution_count": 114,
   "id": "734912d0-5543-4a04-8223-35e6959b6627",
   "metadata": {},
   "outputs": [
    {
     "name": "stdout",
     "output_type": "stream",
     "text": [
      "[-0.04593355 -0.26876208  0.14265601  0.2219244   1.0330533   0.18070424\n",
      "  0.75080323 -0.1072083  -0.65367734 -0.07484082 -1.2901486   0.78569835\n",
      "  0.4727302   0.27598506  0.5307313  -1.2438648   0.51491904  0.6053082\n",
      " -0.39008102  0.10376681  0.22002451 -0.31562275  3.154756   -2.7454698\n",
      " -3.7611468   3.0420997  -0.90305734  2.0987723  -3.3609843  -2.4825575\n",
      " -2.507127    0.2572403  -0.18564224 -0.69950366  1.0922061   1.6384673\n",
      " -1.4195251  -4.030125    1.1549318  -0.03316448 -0.35559547  0.6597768\n",
      "  0.71168673  0.73313224  0.51979256 -1.1576362   0.47023588  0.3508646\n",
      " -0.2727782  -0.45689833  1.2923506   0.6624073  -1.2075647   1.3534579\n",
      "  0.45702875  1.8753121   0.14170586 -1.4568629   0.3961349  -0.2659944\n",
      "  1.2372545  -0.27948713  0.11532354 -0.8176334  -1.2240472  -1.062247\n",
      "  1.16715     2.009897   -0.40843248  1.1920893   0.3056438   0.08244014\n",
      " -0.3624734  -1.3033499  -1.2744519   1.0462488   2.0689926   0.5589146\n",
      "  1.1515481   0.34306413  0.03241381 -1.0419729  -0.16398515  0.9295855\n",
      "  1.0536813  -0.05773155 -0.55568635 -1.2221603  -0.06496982  0.52384084\n",
      " -0.10506898  1.3231508  -2.7389805  -1.0408903   0.04740338  0.42057928\n",
      " -1.0806298   1.11587     1.2600447   0.42087555 -1.9082189   1.5489686\n",
      "  0.15139255  0.47490662  1.4859827  -0.2911886   2.2559156  -0.42237386\n",
      " -0.5435949   2.138433    0.09652252 -0.28632617  0.05081277 -0.3730773\n",
      "  0.1951754  -0.24310881  1.989394  ] -0.14599888\n"
     ]
    }
   ],
   "source": [
    "w_t = w[:, 0]\n",
    "b_t = b[0]\n",
    "print(w_t, b_t)"
   ]
  },
  {
   "cell_type": "code",
   "execution_count": 115,
   "id": "37cff697-1140-4abe-835b-d86afbc05f88",
   "metadata": {},
   "outputs": [],
   "source": [
    "sigmoid = lambda z: 1/(1 + np.exp(-z))\n",
    "y_pred_np = np.array(list(map(lambda x: 1 if sigmoid(w_t @ x + b) >= 0.5 else 0, x_train)))"
   ]
  },
  {
   "cell_type": "code",
   "execution_count": 117,
   "id": "555d32e5-30da-42ef-837b-5b2e46441214",
   "metadata": {},
   "outputs": [
    {
     "name": "stdout",
     "output_type": "stream",
     "text": [
      "Misclassification: 0.0%\n"
     ]
    }
   ],
   "source": [
    "eval(y_pred_np, y_train)"
   ]
  }
 ],
 "metadata": {
  "kernelspec": {
   "display_name": "Python 3 (ipykernel)",
   "language": "python",
   "name": "python3"
  },
  "language_info": {
   "codemirror_mode": {
    "name": "ipython",
    "version": 3
   },
   "file_extension": ".py",
   "mimetype": "text/x-python",
   "name": "python",
   "nbconvert_exporter": "python",
   "pygments_lexer": "ipython3",
   "version": "3.11.7"
  }
 },
 "nbformat": 4,
 "nbformat_minor": 5
}
