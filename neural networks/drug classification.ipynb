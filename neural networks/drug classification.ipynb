{
 "cells": [
  {
   "cell_type": "markdown",
   "id": "4a069690-b88a-4b80-b38e-95f21aa5447f",
   "metadata": {},
   "source": [
    "## Prepare data"
   ]
  },
  {
   "cell_type": "code",
   "execution_count": 121,
   "id": "06f9cb79-281e-44a0-ad7a-1b25e8ea7abd",
   "metadata": {},
   "outputs": [],
   "source": [
    "import pandas as pd\n",
    "import numpy as np\n",
    "import matplotlib.pyplot as plt\n",
    "import pandas as pd\n",
    "from sklearn.model_selection import train_test_split\n",
    "import tensorflow as tf\n",
    "\n",
    "data = pd.read_csv('./data/drug200.csv')"
   ]
  },
  {
   "cell_type": "code",
   "execution_count": 122,
   "id": "77cc6189-aab7-4d35-bed8-80dd3f649634",
   "metadata": {},
   "outputs": [
    {
     "data": {
      "text/html": [
       "<div>\n",
       "<style scoped>\n",
       "    .dataframe tbody tr th:only-of-type {\n",
       "        vertical-align: middle;\n",
       "    }\n",
       "\n",
       "    .dataframe tbody tr th {\n",
       "        vertical-align: top;\n",
       "    }\n",
       "\n",
       "    .dataframe thead th {\n",
       "        text-align: right;\n",
       "    }\n",
       "</style>\n",
       "<table border=\"1\" class=\"dataframe\">\n",
       "  <thead>\n",
       "    <tr style=\"text-align: right;\">\n",
       "      <th></th>\n",
       "      <th>Age</th>\n",
       "      <th>Sex</th>\n",
       "      <th>BP</th>\n",
       "      <th>Cholesterol</th>\n",
       "      <th>Na_to_K</th>\n",
       "      <th>Drug</th>\n",
       "    </tr>\n",
       "  </thead>\n",
       "  <tbody>\n",
       "    <tr>\n",
       "      <th>0</th>\n",
       "      <td>23</td>\n",
       "      <td>F</td>\n",
       "      <td>HIGH</td>\n",
       "      <td>HIGH</td>\n",
       "      <td>25.355</td>\n",
       "      <td>DrugY</td>\n",
       "    </tr>\n",
       "    <tr>\n",
       "      <th>1</th>\n",
       "      <td>47</td>\n",
       "      <td>M</td>\n",
       "      <td>LOW</td>\n",
       "      <td>HIGH</td>\n",
       "      <td>13.093</td>\n",
       "      <td>drugC</td>\n",
       "    </tr>\n",
       "    <tr>\n",
       "      <th>2</th>\n",
       "      <td>47</td>\n",
       "      <td>M</td>\n",
       "      <td>LOW</td>\n",
       "      <td>HIGH</td>\n",
       "      <td>10.114</td>\n",
       "      <td>drugC</td>\n",
       "    </tr>\n",
       "    <tr>\n",
       "      <th>3</th>\n",
       "      <td>28</td>\n",
       "      <td>F</td>\n",
       "      <td>NORMAL</td>\n",
       "      <td>HIGH</td>\n",
       "      <td>7.798</td>\n",
       "      <td>drugX</td>\n",
       "    </tr>\n",
       "    <tr>\n",
       "      <th>4</th>\n",
       "      <td>61</td>\n",
       "      <td>F</td>\n",
       "      <td>LOW</td>\n",
       "      <td>HIGH</td>\n",
       "      <td>18.043</td>\n",
       "      <td>DrugY</td>\n",
       "    </tr>\n",
       "  </tbody>\n",
       "</table>\n",
       "</div>"
      ],
      "text/plain": [
       "   Age Sex      BP Cholesterol  Na_to_K   Drug\n",
       "0   23   F    HIGH        HIGH   25.355  DrugY\n",
       "1   47   M     LOW        HIGH   13.093  drugC\n",
       "2   47   M     LOW        HIGH   10.114  drugC\n",
       "3   28   F  NORMAL        HIGH    7.798  drugX\n",
       "4   61   F     LOW        HIGH   18.043  DrugY"
      ]
     },
     "execution_count": 122,
     "metadata": {},
     "output_type": "execute_result"
    }
   ],
   "source": [
    "data.head()"
   ]
  },
  {
   "cell_type": "code",
   "execution_count": 123,
   "id": "840c2e17-fd87-4189-9068-156a230f9ba1",
   "metadata": {},
   "outputs": [],
   "source": [
    "drug_encoding = dict({\n",
    "    'drugA': 0,\n",
    "    'drugB': 1,\n",
    "    'drugC': 2,\n",
    "    'drugX': 3,\n",
    "    'DrugY': 4\n",
    "})"
   ]
  },
  {
   "cell_type": "code",
   "execution_count": 124,
   "id": "b153f6f5-6c35-4b77-9e98-b79fd146802b",
   "metadata": {},
   "outputs": [],
   "source": [
    "x = pd.get_dummies(data.iloc[:,:-1]).astype(np.float32)\n",
    "y = data['Drug'].apply(lambda y: drug_encoding[y]).astype(np.float32)"
   ]
  },
  {
   "cell_type": "markdown",
   "id": "e23dc963-e272-43da-bd12-e83d2b8d2a54",
   "metadata": {},
   "source": [
    "## Split the data"
   ]
  },
  {
   "cell_type": "code",
   "execution_count": 125,
   "id": "4a0e28a2-8b13-4536-ae51-42602ffd8da0",
   "metadata": {},
   "outputs": [],
   "source": [
    "# Splitting the data set into training set, test set and cross validation sets\n",
    "# to avoid overfitting\n",
    "\n",
    "x_train, x_, y_train, y_ = train_test_split(x, y, test_size=0.4, random_state=1)\n",
    "x_cv, x_test, y_cv, y_test = train_test_split(x_, y_, test_size=0.5, random_state=1)"
   ]
  },
  {
   "cell_type": "markdown",
   "id": "7a47591c-3f31-4d9b-b06f-b98f7f1b8775",
   "metadata": {},
   "source": [
    "## Fit"
   ]
  },
  {
   "cell_type": "code",
   "execution_count": 126,
   "id": "3d6d57ed-e65d-4fb5-b4c3-251a5fb3cb09",
   "metadata": {},
   "outputs": [],
   "source": [
    "import tensorflow as tf\n",
    "from tensorflow.keras.models import Sequential\n",
    "from tensorflow.keras.layers import Dense"
   ]
  },
  {
   "cell_type": "code",
   "execution_count": 212,
   "id": "9910fc87-e2c1-403c-a8b9-756158d091fc",
   "metadata": {},
   "outputs": [
    {
     "data": {
      "text/plain": [
       "<keras.src.callbacks.History at 0x14130a85050>"
      ]
     },
     "execution_count": 212,
     "metadata": {},
     "output_type": "execute_result"
    }
   ],
   "source": [
    "model = Sequential([\n",
    "        Dense(25, activation='relu'),\n",
    "        Dense(15, activation='relu'),\n",
    "        Dense(5, activation='softmax')\n",
    "    ])\n",
    "    \n",
    "model.compile(\n",
    "    loss = tf.keras.losses.SparseCategoricalCrossentropy(),\n",
    "    optimizer = tf.keras.optimizers.Adam(learning_rate=1e-3),\n",
    ")\n",
    "model.fit(x_train, y_train, epochs=2000, verbose=0)"
   ]
  },
  {
   "cell_type": "markdown",
   "id": "466dc890-ddbb-4170-8ca3-84229089b837",
   "metadata": {},
   "source": [
    "## Evaluate"
   ]
  },
  {
   "cell_type": "code",
   "execution_count": 213,
   "id": "b13f7f0b-d35e-43de-95dd-71a6a5d4d3c0",
   "metadata": {},
   "outputs": [],
   "source": [
    "def tf_predict(x_in, model):\n",
    "    sm2cat = lambda p: np.argsort(p)[-1]\n",
    "    y_pred = model.predict(x_in)\n",
    "\n",
    "    return np.array(list(map(sm2cat, y_pred)))"
   ]
  },
  {
   "cell_type": "code",
   "execution_count": 214,
   "id": "e3b7b44e-c0cc-4788-ab34-85c7fea013e2",
   "metadata": {},
   "outputs": [
    {
     "name": "stdout",
     "output_type": "stream",
     "text": [
      "4/4 [==============================] - 0s 1ms/step\n",
      "2/2 [==============================] - 0s 2ms/step\n",
      "2/2 [==============================] - 0s 1ms/step\n"
     ]
    }
   ],
   "source": [
    "y_pred = tf_predict(x_train, model)\n",
    "y_pred_cv = tf_predict(x_cv, model)\n",
    "y_pred_test = tf_predict(x_test, model)"
   ]
  },
  {
   "cell_type": "code",
   "execution_count": 215,
   "id": "8d02f98b-60d9-4777-bb6a-8990ad6db624",
   "metadata": {},
   "outputs": [],
   "source": [
    "def eval(y_pred, y_train, name):\n",
    "    print(f'{name} error\\t: {round(np.mean(y_pred != y_train), 2) * 100}%')"
   ]
  },
  {
   "cell_type": "code",
   "execution_count": 216,
   "id": "27b26938-459c-458b-8efd-9528b984322b",
   "metadata": {},
   "outputs": [
    {
     "name": "stdout",
     "output_type": "stream",
     "text": [
      "train error\t: 0.0%\n",
      "cv error\t: 2.0%\n",
      "test error\t: 8.0%\n"
     ]
    }
   ],
   "source": [
    "eval(y_pred, y_train, 'train')\n",
    "eval(y_pred_cv, y_cv, 'cv')\n",
    "eval(y_pred_test, y_test, 'test')"
   ]
  },
  {
   "cell_type": "markdown",
   "id": "fc6e9800-1dcf-47b3-85d3-a5fc15839587",
   "metadata": {},
   "source": [
    "We can see that the model does very well on the training set, but has misclassfication on the CV and test sets. Let's try an ensemble of models and calculate the CV errors."
   ]
  },
  {
   "cell_type": "markdown",
   "id": "a26e461d-81e9-4d4e-b4c8-b896a72595b4",
   "metadata": {},
   "source": [
    "## Model ensemble"
   ]
  },
  {
   "cell_type": "code",
   "execution_count": 203,
   "id": "c484a306-8ba9-473c-9117-e016c3c509e2",
   "metadata": {},
   "outputs": [],
   "source": [
    "def get_models():\n",
    "    tf.random.set_seed(20)\n",
    "\n",
    "    model1 = Sequential(\n",
    "        [\n",
    "            Dense(25, activation = 'relu'),\n",
    "            Dense(15, activation = 'relu'),\n",
    "            Dense(5, activation = 'softmax')\n",
    "        ],\n",
    "        name='model1'\n",
    "    )\n",
    "\n",
    "    model2 = Sequential(\n",
    "        [\n",
    "            Dense(20, activation = 'relu'),\n",
    "            Dense(12, activation = 'relu'),\n",
    "            Dense(12, activation = 'relu'),\n",
    "            Dense(20, activation = 'relu'),\n",
    "            Dense(5, activation = 'softmax')\n",
    "        ],\n",
    "        name='model2'\n",
    "    )\n",
    "\n",
    "    model3 = Sequential(\n",
    "        [\n",
    "            Dense(32, activation = 'relu'),\n",
    "            Dense(16, activation = 'relu'),\n",
    "            Dense(8, activation = 'relu'),\n",
    "            Dense(4, activation = 'relu'),\n",
    "            Dense(12, activation = 'relu'),\n",
    "            Dense(5, activation = 'softmax')\n",
    "        ],\n",
    "        name='model3'\n",
    "    )\n",
    "\n",
    "    return [model1, model2, model3]"
   ]
  },
  {
   "cell_type": "code",
   "execution_count": 218,
   "id": "08bbf9ab-fd50-4c8d-9b14-3b22d0432a0d",
   "metadata": {},
   "outputs": [
    {
     "name": "stdout",
     "output_type": "stream",
     "text": [
      "4/4 [==============================] - 0s 1ms/step\n",
      "2/2 [==============================] - 0s 2ms/step\n",
      "2/2 [==============================] - 0s 1ms/step\n",
      "Model 0\n",
      "train error\t: 0.0%\n",
      "cv error\t: 5.0%\n",
      "test error\t: 8.0%\n",
      "\n",
      "4/4 [==============================] - 0s 1ms/step\n",
      "2/2 [==============================] - 0s 2ms/step\n",
      "2/2 [==============================] - 0s 2ms/step\n",
      "Model 1\n",
      "train error\t: 0.0%\n",
      "cv error\t: 8.0%\n",
      "test error\t: 12.0%\n",
      "\n",
      "4/4 [==============================] - 0s 1ms/step\n",
      "2/2 [==============================] - 0s 2ms/step\n",
      "2/2 [==============================] - 0s 2ms/step\n",
      "Model 2\n",
      "train error\t: 0.0%\n",
      "cv error\t: 5.0%\n",
      "test error\t: 5.0%\n",
      "\n"
     ]
    }
   ],
   "source": [
    "models = get_models()\n",
    "\n",
    "for i, model in enumerate(models):\n",
    "    model.compile(\n",
    "        loss = tf.keras.losses.SparseCategoricalCrossentropy(),\n",
    "        optimizer = tf.keras.optimizers.Adam(learning_rate=1e-3),\n",
    "    )\n",
    "    model.fit(x_train, y_train, epochs=1000, verbose=0)\n",
    "    y_pred = tf_predict(x_train, model)\n",
    "    y_pred_cv = tf_predict(x_cv, model)\n",
    "    y_pred_test = tf_predict(x_test, model)\n",
    "\n",
    "    print(f'Model {i}')\n",
    "    eval(y_pred, y_train, 'train')\n",
    "    eval(y_pred_cv, y_cv, 'cv')\n",
    "    eval(y_pred_test, y_test, 'test')\n",
    "    print()"
   ]
  },
  {
   "cell_type": "markdown",
   "id": "1cf7041f-33a7-48df-ad7f-c816ab99ff30",
   "metadata": {},
   "source": [
    "Different runs produce different results. In this particular run, the 3rd model produced the lowest CV error and test error. We can choose this model. But other runs might result in different combinations."
   ]
  }
 ],
 "metadata": {
  "kernelspec": {
   "display_name": "Python 3 (ipykernel)",
   "language": "python",
   "name": "python3"
  },
  "language_info": {
   "codemirror_mode": {
    "name": "ipython",
    "version": 3
   },
   "file_extension": ".py",
   "mimetype": "text/x-python",
   "name": "python",
   "nbconvert_exporter": "python",
   "pygments_lexer": "ipython3",
   "version": "3.11.7"
  }
 },
 "nbformat": 4,
 "nbformat_minor": 5
}
