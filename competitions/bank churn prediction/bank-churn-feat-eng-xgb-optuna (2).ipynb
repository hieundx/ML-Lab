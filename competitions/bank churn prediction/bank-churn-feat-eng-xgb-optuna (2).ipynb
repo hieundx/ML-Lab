{
 "cells": [
  {
   "cell_type": "markdown",
   "id": "350a07d9",
   "metadata": {
    "papermill": {
     "duration": 0.006304,
     "end_time": "2024-01-13T04:58:26.787641",
     "exception": false,
     "start_time": "2024-01-13T04:58:26.781337",
     "status": "completed"
    },
    "tags": []
   },
   "source": [
    "# Load data"
   ]
  },
  {
   "cell_type": "code",
   "execution_count": 1,
   "id": "ca934907",
   "metadata": {
    "_cell_guid": "b1076dfc-b9ad-4769-8c92-a6c4dae69d19",
    "_uuid": "8f2839f25d086af736a60e9eeb907d3b93b6e0e5",
    "execution": {
     "iopub.execute_input": "2024-01-13T04:58:26.801029Z",
     "iopub.status.busy": "2024-01-13T04:58:26.800450Z",
     "iopub.status.idle": "2024-01-13T04:58:29.319667Z",
     "shell.execute_reply": "2024-01-13T04:58:29.318325Z"
    },
    "papermill": {
     "duration": 2.528672,
     "end_time": "2024-01-13T04:58:29.322056",
     "exception": false,
     "start_time": "2024-01-13T04:58:26.793384",
     "status": "completed"
    },
    "tags": []
   },
   "outputs": [
    {
     "data": {
      "text/html": [
       "<div>\n",
       "<style scoped>\n",
       "    .dataframe tbody tr th:only-of-type {\n",
       "        vertical-align: middle;\n",
       "    }\n",
       "\n",
       "    .dataframe tbody tr th {\n",
       "        vertical-align: top;\n",
       "    }\n",
       "\n",
       "    .dataframe thead th {\n",
       "        text-align: right;\n",
       "    }\n",
       "</style>\n",
       "<table border=\"1\" class=\"dataframe\">\n",
       "  <thead>\n",
       "    <tr style=\"text-align: right;\">\n",
       "      <th></th>\n",
       "      <th>id</th>\n",
       "      <th>CustomerId</th>\n",
       "      <th>Surname</th>\n",
       "      <th>CreditScore</th>\n",
       "      <th>Geography</th>\n",
       "      <th>Gender</th>\n",
       "      <th>Age</th>\n",
       "      <th>Tenure</th>\n",
       "      <th>Balance</th>\n",
       "      <th>NumOfProducts</th>\n",
       "      <th>HasCrCard</th>\n",
       "      <th>IsActiveMember</th>\n",
       "      <th>EstimatedSalary</th>\n",
       "      <th>Exited</th>\n",
       "    </tr>\n",
       "  </thead>\n",
       "  <tbody>\n",
       "    <tr>\n",
       "      <th>0</th>\n",
       "      <td>0</td>\n",
       "      <td>15674932</td>\n",
       "      <td>Okwudilichukwu</td>\n",
       "      <td>668</td>\n",
       "      <td>France</td>\n",
       "      <td>Male</td>\n",
       "      <td>33.0</td>\n",
       "      <td>3</td>\n",
       "      <td>0.00</td>\n",
       "      <td>2</td>\n",
       "      <td>1.0</td>\n",
       "      <td>0.0</td>\n",
       "      <td>181449.97</td>\n",
       "      <td>0</td>\n",
       "    </tr>\n",
       "    <tr>\n",
       "      <th>1</th>\n",
       "      <td>1</td>\n",
       "      <td>15749177</td>\n",
       "      <td>Okwudiliolisa</td>\n",
       "      <td>627</td>\n",
       "      <td>France</td>\n",
       "      <td>Male</td>\n",
       "      <td>33.0</td>\n",
       "      <td>1</td>\n",
       "      <td>0.00</td>\n",
       "      <td>2</td>\n",
       "      <td>1.0</td>\n",
       "      <td>1.0</td>\n",
       "      <td>49503.50</td>\n",
       "      <td>0</td>\n",
       "    </tr>\n",
       "    <tr>\n",
       "      <th>2</th>\n",
       "      <td>2</td>\n",
       "      <td>15694510</td>\n",
       "      <td>Hsueh</td>\n",
       "      <td>678</td>\n",
       "      <td>France</td>\n",
       "      <td>Male</td>\n",
       "      <td>40.0</td>\n",
       "      <td>10</td>\n",
       "      <td>0.00</td>\n",
       "      <td>2</td>\n",
       "      <td>1.0</td>\n",
       "      <td>0.0</td>\n",
       "      <td>184866.69</td>\n",
       "      <td>0</td>\n",
       "    </tr>\n",
       "    <tr>\n",
       "      <th>3</th>\n",
       "      <td>3</td>\n",
       "      <td>15741417</td>\n",
       "      <td>Kao</td>\n",
       "      <td>581</td>\n",
       "      <td>France</td>\n",
       "      <td>Male</td>\n",
       "      <td>34.0</td>\n",
       "      <td>2</td>\n",
       "      <td>148882.54</td>\n",
       "      <td>1</td>\n",
       "      <td>1.0</td>\n",
       "      <td>1.0</td>\n",
       "      <td>84560.88</td>\n",
       "      <td>0</td>\n",
       "    </tr>\n",
       "    <tr>\n",
       "      <th>4</th>\n",
       "      <td>4</td>\n",
       "      <td>15766172</td>\n",
       "      <td>Chiemenam</td>\n",
       "      <td>716</td>\n",
       "      <td>Spain</td>\n",
       "      <td>Male</td>\n",
       "      <td>33.0</td>\n",
       "      <td>5</td>\n",
       "      <td>0.00</td>\n",
       "      <td>2</td>\n",
       "      <td>1.0</td>\n",
       "      <td>1.0</td>\n",
       "      <td>15068.83</td>\n",
       "      <td>0</td>\n",
       "    </tr>\n",
       "  </tbody>\n",
       "</table>\n",
       "</div>"
      ],
      "text/plain": [
       "   id  CustomerId         Surname  CreditScore Geography Gender   Age  Tenure  \\\n",
       "0   0    15674932  Okwudilichukwu          668    France   Male  33.0       3   \n",
       "1   1    15749177   Okwudiliolisa          627    France   Male  33.0       1   \n",
       "2   2    15694510           Hsueh          678    France   Male  40.0      10   \n",
       "3   3    15741417             Kao          581    France   Male  34.0       2   \n",
       "4   4    15766172       Chiemenam          716     Spain   Male  33.0       5   \n",
       "\n",
       "     Balance  NumOfProducts  HasCrCard  IsActiveMember  EstimatedSalary  \\\n",
       "0       0.00              2        1.0             0.0        181449.97   \n",
       "1       0.00              2        1.0             1.0         49503.50   \n",
       "2       0.00              2        1.0             0.0        184866.69   \n",
       "3  148882.54              1        1.0             1.0         84560.88   \n",
       "4       0.00              2        1.0             1.0         15068.83   \n",
       "\n",
       "   Exited  \n",
       "0       0  \n",
       "1       0  \n",
       "2       0  \n",
       "3       0  \n",
       "4       0  "
      ]
     },
     "execution_count": 1,
     "metadata": {},
     "output_type": "execute_result"
    }
   ],
   "source": [
    "# This Python 3 environment comes with many helpful analytics libraries installed\n",
    "# It is defined by the kaggle/python Docker image: https://github.com/kaggle/docker-python\n",
    "# For example, here's several helpful packages to load\n",
    "\n",
    "import numpy as np # linear algebra\n",
    "import pandas as pd # data processing, CSV file I/O (e.g. pd.read_csv)\n",
    "from sklearn.model_selection import train_test_split\n",
    "from sklearn.preprocessing import StandardScaler, LabelEncoder\n",
    "from sklearn.metrics import accuracy_score\n",
    "\n",
    "data = pd.read_csv('/kaggle/input/playground-series-s4e1/train.csv')\n",
    "test = pd.read_csv('/kaggle/input/playground-series-s4e1/test.csv')\n",
    "\n",
    "data.head()"
   ]
  },
  {
   "cell_type": "code",
   "execution_count": 2,
   "id": "cb268e67",
   "metadata": {
    "execution": {
     "iopub.execute_input": "2024-01-13T04:58:29.336270Z",
     "iopub.status.busy": "2024-01-13T04:58:29.335902Z",
     "iopub.status.idle": "2024-01-13T04:58:29.342142Z",
     "shell.execute_reply": "2024-01-13T04:58:29.340847Z"
    },
    "papermill": {
     "duration": 0.01558,
     "end_time": "2024-01-13T04:58:29.343893",
     "exception": false,
     "start_time": "2024-01-13T04:58:29.328313",
     "status": "completed"
    },
    "tags": []
   },
   "outputs": [
    {
     "name": "stdout",
     "output_type": "stream",
     "text": [
      "Training size:  165034\n"
     ]
    }
   ],
   "source": [
    "print('Training size: ', data.shape[0])"
   ]
  },
  {
   "cell_type": "code",
   "execution_count": 3,
   "id": "4d4ac7ad",
   "metadata": {
    "execution": {
     "iopub.execute_input": "2024-01-13T04:58:29.357989Z",
     "iopub.status.busy": "2024-01-13T04:58:29.357115Z",
     "iopub.status.idle": "2024-01-13T04:58:29.381793Z",
     "shell.execute_reply": "2024-01-13T04:58:29.380378Z"
    },
    "papermill": {
     "duration": 0.033699,
     "end_time": "2024-01-13T04:58:29.383626",
     "exception": false,
     "start_time": "2024-01-13T04:58:29.349927",
     "status": "completed"
    },
    "tags": []
   },
   "outputs": [
    {
     "data": {
      "text/plain": [
       "Surname\n",
       "Hsia         2456\n",
       "T'ien        2282\n",
       "Hs?          1611\n",
       "Kao          1577\n",
       "Maclean      1577\n",
       "             ... \n",
       "Samaniego       1\n",
       "Lawley          1\n",
       "Bonwick         1\n",
       "Tennant         1\n",
       "Elkins          1\n",
       "Name: count, Length: 2797, dtype: int64"
      ]
     },
     "execution_count": 3,
     "metadata": {},
     "output_type": "execute_result"
    }
   ],
   "source": [
    "data['Surname'].value_counts()"
   ]
  },
  {
   "cell_type": "markdown",
   "id": "dba77121",
   "metadata": {
    "papermill": {
     "duration": 0.005787,
     "end_time": "2024-01-13T04:58:29.395783",
     "exception": false,
     "start_time": "2024-01-13T04:58:29.389996",
     "status": "completed"
    },
    "tags": []
   },
   "source": [
    "# Feature engineering"
   ]
  },
  {
   "cell_type": "markdown",
   "id": "db86e08f",
   "metadata": {
    "papermill": {
     "duration": 0.00655,
     "end_time": "2024-01-13T04:58:29.408271",
     "exception": false,
     "start_time": "2024-01-13T04:58:29.401721",
     "status": "completed"
    },
    "tags": []
   },
   "source": [
    "## Define helper function"
   ]
  },
  {
   "cell_type": "code",
   "execution_count": 4,
   "id": "9cde88d0",
   "metadata": {
    "execution": {
     "iopub.execute_input": "2024-01-13T04:58:29.421787Z",
     "iopub.status.busy": "2024-01-13T04:58:29.421459Z",
     "iopub.status.idle": "2024-01-13T04:58:29.427123Z",
     "shell.execute_reply": "2024-01-13T04:58:29.425762Z"
    },
    "papermill": {
     "duration": 0.014817,
     "end_time": "2024-01-13T04:58:29.428961",
     "exception": false,
     "start_time": "2024-01-13T04:58:29.414144",
     "status": "completed"
    },
    "tags": []
   },
   "outputs": [],
   "source": [
    "def cut(data, col, bins):\n",
    "    preview = pd.cut(data[col], bins=bins)\n",
    "    print('*** PREVIEW with LABELS ***')\n",
    "    print(preview.value_counts())\n",
    "    \n",
    "    data[f'{col}Group'] = pd.cut(data[col], bins=bins, labels=False)\n",
    "    print(f'{col}Group (no labels) created')\n",
    "    print()"
   ]
  },
  {
   "cell_type": "markdown",
   "id": "4e49e19b",
   "metadata": {
    "papermill": {
     "duration": 0.005826,
     "end_time": "2024-01-13T04:58:29.440972",
     "exception": false,
     "start_time": "2024-01-13T04:58:29.435146",
     "status": "completed"
    },
    "tags": []
   },
   "source": [
    "## Age Group and Credit Score bands"
   ]
  },
  {
   "cell_type": "code",
   "execution_count": 5,
   "id": "43e516d6",
   "metadata": {
    "execution": {
     "iopub.execute_input": "2024-01-13T04:58:29.454440Z",
     "iopub.status.busy": "2024-01-13T04:58:29.454056Z",
     "iopub.status.idle": "2024-01-13T04:58:29.491909Z",
     "shell.execute_reply": "2024-01-13T04:58:29.491038Z"
    },
    "papermill": {
     "duration": 0.047556,
     "end_time": "2024-01-13T04:58:29.494396",
     "exception": false,
     "start_time": "2024-01-13T04:58:29.446840",
     "status": "completed"
    },
    "tags": []
   },
   "outputs": [
    {
     "name": "stdout",
     "output_type": "stream",
     "text": [
      "*** PREVIEW with LABELS ***\n",
      "Age\n",
      "(32.8, 47.6]      99773\n",
      "(17.926, 32.8]    43675\n",
      "(47.6, 62.4]      18789\n",
      "(62.4, 77.2]       2711\n",
      "(77.2, 92.0]         86\n",
      "Name: count, dtype: int64\n",
      "AgeGroup (no labels) created\n",
      "\n",
      "*** PREVIEW with LABELS ***\n",
      "CreditScore\n",
      "(580, 670]    62141\n",
      "(670, 740]    51927\n",
      "(300, 580]    28114\n",
      "(740, 800]    16257\n",
      "(800, 850]     6595\n",
      "(0, 300]          0\n",
      "Name: count, dtype: int64\n",
      "CreditScoreGroup (no labels) created\n",
      "\n"
     ]
    }
   ],
   "source": [
    "# Age groups\n",
    "cut(data,'Age', 5)\n",
    "\n",
    "# https://www.experian.com/blogs/ask-experian/infographic-what-are-the-different-scoring-ranges/\n",
    "cut(data, 'CreditScore', [0, 300, 580, 670, 740, 800, 850])"
   ]
  },
  {
   "cell_type": "markdown",
   "id": "6be5983c",
   "metadata": {
    "papermill": {
     "duration": 0.005946,
     "end_time": "2024-01-13T04:58:29.507107",
     "exception": false,
     "start_time": "2024-01-13T04:58:29.501161",
     "status": "completed"
    },
    "tags": []
   },
   "source": [
    "## Salary binning"
   ]
  },
  {
   "cell_type": "code",
   "execution_count": 6,
   "id": "92c4f605",
   "metadata": {
    "execution": {
     "iopub.execute_input": "2024-01-13T04:58:29.521927Z",
     "iopub.status.busy": "2024-01-13T04:58:29.520858Z",
     "iopub.status.idle": "2024-01-13T04:58:29.542481Z",
     "shell.execute_reply": "2024-01-13T04:58:29.541415Z"
    },
    "papermill": {
     "duration": 0.031139,
     "end_time": "2024-01-13T04:58:29.544396",
     "exception": false,
     "start_time": "2024-01-13T04:58:29.513257",
     "status": "completed"
    },
    "tags": []
   },
   "outputs": [
    {
     "data": {
      "text/plain": [
       "count    165034.000000\n",
       "mean     112574.822734\n",
       "std       50292.865585\n",
       "min          11.580000\n",
       "25%       74637.570000\n",
       "50%      117948.000000\n",
       "75%      155152.467500\n",
       "max      199992.480000\n",
       "Name: EstimatedSalary, dtype: float64"
      ]
     },
     "execution_count": 6,
     "metadata": {},
     "output_type": "execute_result"
    }
   ],
   "source": [
    "data['EstimatedSalary'].describe()"
   ]
  },
  {
   "cell_type": "markdown",
   "id": "fe83a488",
   "metadata": {
    "papermill": {
     "duration": 0.005957,
     "end_time": "2024-01-13T04:58:29.556780",
     "exception": false,
     "start_time": "2024-01-13T04:58:29.550823",
     "status": "completed"
    },
    "tags": []
   },
   "source": [
    "We can see that salary ranges from 11.58 (almost 0) to 199,992.48 (around 200k). First and third quartiles are near multiples of 50k, with median over twice of 50k. So it makes sense to stratefy this column into 0 - 50k, 50k - 100k, 100k - 200k ranges."
   ]
  },
  {
   "cell_type": "code",
   "execution_count": 7,
   "id": "31f29269",
   "metadata": {
    "execution": {
     "iopub.execute_input": "2024-01-13T04:58:29.570698Z",
     "iopub.status.busy": "2024-01-13T04:58:29.570395Z",
     "iopub.status.idle": "2024-01-13T04:58:29.587549Z",
     "shell.execute_reply": "2024-01-13T04:58:29.586068Z"
    },
    "papermill": {
     "duration": 0.026499,
     "end_time": "2024-01-13T04:58:29.589739",
     "exception": false,
     "start_time": "2024-01-13T04:58:29.563240",
     "status": "completed"
    },
    "tags": []
   },
   "outputs": [
    {
     "name": "stdout",
     "output_type": "stream",
     "text": [
      "*** PREVIEW with LABELS ***\n",
      "EstimatedSalary\n",
      "(100000, 200000]    98273\n",
      "(50000, 100000]     46817\n",
      "(0, 50000]          19944\n",
      "Name: count, dtype: int64\n",
      "EstimatedSalaryGroup (no labels) created\n",
      "\n"
     ]
    }
   ],
   "source": [
    "cut(data, 'EstimatedSalary', [0, 50000, 100000, 200000])"
   ]
  },
  {
   "cell_type": "markdown",
   "id": "5da2d789",
   "metadata": {
    "papermill": {
     "duration": 0.006428,
     "end_time": "2024-01-13T04:58:29.602797",
     "exception": false,
     "start_time": "2024-01-13T04:58:29.596369",
     "status": "completed"
    },
    "tags": []
   },
   "source": [
    "## Balance to Salary ratio"
   ]
  },
  {
   "cell_type": "code",
   "execution_count": 8,
   "id": "01f6fc41",
   "metadata": {
    "execution": {
     "iopub.execute_input": "2024-01-13T04:58:29.618036Z",
     "iopub.status.busy": "2024-01-13T04:58:29.616790Z",
     "iopub.status.idle": "2024-01-13T04:58:29.623625Z",
     "shell.execute_reply": "2024-01-13T04:58:29.622504Z"
    },
    "papermill": {
     "duration": 0.016851,
     "end_time": "2024-01-13T04:58:29.626129",
     "exception": false,
     "start_time": "2024-01-13T04:58:29.609278",
     "status": "completed"
    },
    "tags": []
   },
   "outputs": [],
   "source": [
    "data['BalanceToSalaryRatio'] = data['Balance'] / data['EstimatedSalary']"
   ]
  },
  {
   "cell_type": "markdown",
   "id": "dc0e421d",
   "metadata": {
    "papermill": {
     "duration": 0.006202,
     "end_time": "2024-01-13T04:58:29.639033",
     "exception": false,
     "start_time": "2024-01-13T04:58:29.632831",
     "status": "completed"
    },
    "tags": []
   },
   "source": [
    "## Label Encoding"
   ]
  },
  {
   "cell_type": "code",
   "execution_count": 9,
   "id": "90d19607",
   "metadata": {
    "execution": {
     "iopub.execute_input": "2024-01-13T04:58:29.654595Z",
     "iopub.status.busy": "2024-01-13T04:58:29.654248Z",
     "iopub.status.idle": "2024-01-13T04:58:29.729471Z",
     "shell.execute_reply": "2024-01-13T04:58:29.728459Z"
    },
    "papermill": {
     "duration": 0.085347,
     "end_time": "2024-01-13T04:58:29.731814",
     "exception": false,
     "start_time": "2024-01-13T04:58:29.646467",
     "status": "completed"
    },
    "tags": []
   },
   "outputs": [],
   "source": [
    "le = LabelEncoder()\n",
    "\n",
    "# Fit surname for both datasets\n",
    "le.fit(pd.concat([data,test])['Surname'])\n",
    "data['Surname'] = le.transform(data['Surname'])"
   ]
  },
  {
   "cell_type": "markdown",
   "id": "665062e3",
   "metadata": {
    "papermill": {
     "duration": 0.0063,
     "end_time": "2024-01-13T04:58:29.745573",
     "exception": false,
     "start_time": "2024-01-13T04:58:29.739273",
     "status": "completed"
    },
    "tags": []
   },
   "source": [
    "## Wrapping things up"
   ]
  },
  {
   "cell_type": "code",
   "execution_count": 10,
   "id": "5512000b",
   "metadata": {
    "execution": {
     "iopub.execute_input": "2024-01-13T04:58:29.759875Z",
     "iopub.status.busy": "2024-01-13T04:58:29.759531Z",
     "iopub.status.idle": "2024-01-13T04:58:29.765356Z",
     "shell.execute_reply": "2024-01-13T04:58:29.764393Z"
    },
    "papermill": {
     "duration": 0.015464,
     "end_time": "2024-01-13T04:58:29.767479",
     "exception": false,
     "start_time": "2024-01-13T04:58:29.752015",
     "status": "completed"
    },
    "tags": []
   },
   "outputs": [],
   "source": [
    "def engineer(data):\n",
    "    cut(data, 'Age', 5)\n",
    "    cut(data, 'CreditScore', [0, 300, 580, 670, 740, 800, 850])\n",
    "    cut(data, 'EstimatedSalary', [0, 50000, 100000, 200000])\n",
    "    \n",
    "    data['BalanceToSalaryRatio'] = data['Balance'] / data['EstimatedSalary']\n",
    "    print(data['BalanceToSalaryRatio'].describe())\n",
    "    print()\n",
    "    \n",
    "    return data"
   ]
  },
  {
   "cell_type": "markdown",
   "id": "e949a489",
   "metadata": {
    "papermill": {
     "duration": 0.006255,
     "end_time": "2024-01-13T04:58:29.780496",
     "exception": false,
     "start_time": "2024-01-13T04:58:29.774241",
     "status": "completed"
    },
    "tags": []
   },
   "source": [
    "# Split training data"
   ]
  },
  {
   "cell_type": "code",
   "execution_count": 11,
   "id": "1f76d90a",
   "metadata": {
    "execution": {
     "iopub.execute_input": "2024-01-13T04:58:29.795699Z",
     "iopub.status.busy": "2024-01-13T04:58:29.794808Z",
     "iopub.status.idle": "2024-01-13T04:58:29.838403Z",
     "shell.execute_reply": "2024-01-13T04:58:29.836686Z"
    },
    "papermill": {
     "duration": 0.053209,
     "end_time": "2024-01-13T04:58:29.840275",
     "exception": false,
     "start_time": "2024-01-13T04:58:29.787066",
     "status": "completed"
    },
    "tags": []
   },
   "outputs": [
    {
     "name": "stdout",
     "output_type": "stream",
     "text": [
      "*** PREVIEW with LABELS ***\n",
      "Age\n",
      "(32.8, 47.6]      99773\n",
      "(17.926, 32.8]    43675\n",
      "(47.6, 62.4]      18789\n",
      "(62.4, 77.2]       2711\n",
      "(77.2, 92.0]         86\n",
      "Name: count, dtype: int64\n",
      "AgeGroup (no labels) created\n",
      "\n",
      "*** PREVIEW with LABELS ***\n",
      "CreditScore\n",
      "(580, 670]    62141\n",
      "(670, 740]    51927\n",
      "(300, 580]    28114\n",
      "(740, 800]    16257\n",
      "(800, 850]     6595\n",
      "(0, 300]          0\n",
      "Name: count, dtype: int64\n",
      "CreditScoreGroup (no labels) created\n",
      "\n",
      "*** PREVIEW with LABELS ***\n",
      "EstimatedSalary\n",
      "(100000, 200000]    98273\n",
      "(50000, 100000]     46817\n",
      "(0, 50000]          19944\n",
      "Name: count, dtype: int64\n",
      "EstimatedSalaryGroup (no labels) created\n",
      "\n",
      "count    165034.000000\n",
      "mean          2.100904\n",
      "std          91.642444\n",
      "min           0.000000\n",
      "25%           0.000000\n",
      "50%           0.000000\n",
      "75%           0.978816\n",
      "max       12863.796200\n",
      "Name: BalanceToSalaryRatio, dtype: float64\n",
      "\n"
     ]
    }
   ],
   "source": [
    "data = engineer(data)"
   ]
  },
  {
   "cell_type": "code",
   "execution_count": 12,
   "id": "774af219",
   "metadata": {
    "execution": {
     "iopub.execute_input": "2024-01-13T04:58:29.855435Z",
     "iopub.status.busy": "2024-01-13T04:58:29.855063Z",
     "iopub.status.idle": "2024-01-13T04:58:29.963114Z",
     "shell.execute_reply": "2024-01-13T04:58:29.962206Z"
    },
    "papermill": {
     "duration": 0.118441,
     "end_time": "2024-01-13T04:58:29.965381",
     "exception": false,
     "start_time": "2024-01-13T04:58:29.846940",
     "status": "completed"
    },
    "tags": []
   },
   "outputs": [],
   "source": [
    "drop_cols_test = ['id', 'CustomerId']\n",
    "drop_cols = ['id', 'CustomerId', 'Exited']\n",
    "x_data = pd.get_dummies(data.drop(columns=drop_cols)).astype(np.float32)\n",
    "y_data = (data['Exited']).astype(np.float32)\n",
    "\n",
    "scaler = StandardScaler()\n",
    "x_data = scaler.fit_transform(x_data)\n",
    "\n",
    "# Large data set therefore we just need a small test size for validation purpose\n",
    "x_train, x_, y_train, y_ = train_test_split(x_data, y_data, test_size=0.01, random_state=0)"
   ]
  },
  {
   "cell_type": "code",
   "execution_count": 13,
   "id": "56ed2a96",
   "metadata": {
    "execution": {
     "iopub.execute_input": "2024-01-13T04:58:29.981452Z",
     "iopub.status.busy": "2024-01-13T04:58:29.981135Z",
     "iopub.status.idle": "2024-01-13T04:58:29.986894Z",
     "shell.execute_reply": "2024-01-13T04:58:29.986111Z"
    },
    "papermill": {
     "duration": 0.0159,
     "end_time": "2024-01-13T04:58:29.988719",
     "exception": false,
     "start_time": "2024-01-13T04:58:29.972819",
     "status": "completed"
    },
    "tags": []
   },
   "outputs": [],
   "source": [
    "def predict(model, x, y):\n",
    "    p = model.predict(x)\n",
    "    p = p.reshape(1, len(p))[0]\n",
    "    p = np.array(list(map(lambda p: 1 if p >= 0.5 else 0, p)))\n",
    "\n",
    "    accu = round(accuracy_score(p,  y) , 4)\n",
    "    \n",
    "    return accu\n",
    "\n",
    "def evaluate(model):\n",
    "    accu_train = predict(model, x_train, y_train)\n",
    "    accu_dev = predict(model, x_, y_)\n",
    "    \n",
    "    print(f'Train: {accu_train}\\tDev: {accu_dev}')\n",
    "\n",
    "    return accu_dev"
   ]
  },
  {
   "cell_type": "markdown",
   "id": "92f5afcc",
   "metadata": {
    "papermill": {
     "duration": 0.006324,
     "end_time": "2024-01-13T04:58:30.002360",
     "exception": false,
     "start_time": "2024-01-13T04:58:29.996036",
     "status": "completed"
    },
    "tags": []
   },
   "source": [
    "# Hyper parameter tuning"
   ]
  },
  {
   "cell_type": "markdown",
   "id": "02b33bf6",
   "metadata": {
    "execution": {
     "iopub.execute_input": "2024-01-12T15:51:17.557151Z",
     "iopub.status.busy": "2024-01-12T15:51:17.555378Z",
     "iopub.status.idle": "2024-01-12T15:51:17.612332Z",
     "shell.execute_reply": "2024-01-12T15:51:17.610418Z",
     "shell.execute_reply.started": "2024-01-12T15:51:17.557071Z"
    },
    "papermill": {
     "duration": 0.006035,
     "end_time": "2024-01-13T04:58:30.014804",
     "exception": false,
     "start_time": "2024-01-13T04:58:30.008769",
     "status": "completed"
    },
    "tags": []
   },
   "source": [
    "Best Hyperparameters found using Optuna\n",
    "```\n",
    "{\n",
    "    'max_depth': 6, \n",
    "    'min_child_weight': 6, \n",
    "    'learning_rate': 0.015456088221076969, \n",
    "    'n_estimators': 535, \n",
    "    'subsample': 0.25556380739804013, \n",
    "    'colsample_bytree': 0.6705216911932783, \n",
    "    'random_state': 42\n",
    "}\n",
    "```"
   ]
  },
  {
   "cell_type": "markdown",
   "id": "c09a3ad6",
   "metadata": {
    "papermill": {
     "duration": 0.006241,
     "end_time": "2024-01-13T04:58:30.027495",
     "exception": false,
     "start_time": "2024-01-13T04:58:30.021254",
     "status": "completed"
    },
    "tags": []
   },
   "source": [
    "# Train"
   ]
  },
  {
   "cell_type": "code",
   "execution_count": 14,
   "id": "d1b231d8",
   "metadata": {
    "execution": {
     "iopub.execute_input": "2024-01-13T04:58:30.042214Z",
     "iopub.status.busy": "2024-01-13T04:58:30.041581Z",
     "iopub.status.idle": "2024-01-13T04:58:37.303803Z",
     "shell.execute_reply": "2024-01-13T04:58:37.302974Z"
    },
    "papermill": {
     "duration": 7.271843,
     "end_time": "2024-01-13T04:58:37.305718",
     "exception": false,
     "start_time": "2024-01-13T04:58:30.033875",
     "status": "completed"
    },
    "tags": []
   },
   "outputs": [
    {
     "data": {
      "text/html": [
       "<style>#sk-container-id-1 {color: black;background-color: white;}#sk-container-id-1 pre{padding: 0;}#sk-container-id-1 div.sk-toggleable {background-color: white;}#sk-container-id-1 label.sk-toggleable__label {cursor: pointer;display: block;width: 100%;margin-bottom: 0;padding: 0.3em;box-sizing: border-box;text-align: center;}#sk-container-id-1 label.sk-toggleable__label-arrow:before {content: \"▸\";float: left;margin-right: 0.25em;color: #696969;}#sk-container-id-1 label.sk-toggleable__label-arrow:hover:before {color: black;}#sk-container-id-1 div.sk-estimator:hover label.sk-toggleable__label-arrow:before {color: black;}#sk-container-id-1 div.sk-toggleable__content {max-height: 0;max-width: 0;overflow: hidden;text-align: left;background-color: #f0f8ff;}#sk-container-id-1 div.sk-toggleable__content pre {margin: 0.2em;color: black;border-radius: 0.25em;background-color: #f0f8ff;}#sk-container-id-1 input.sk-toggleable__control:checked~div.sk-toggleable__content {max-height: 200px;max-width: 100%;overflow: auto;}#sk-container-id-1 input.sk-toggleable__control:checked~label.sk-toggleable__label-arrow:before {content: \"▾\";}#sk-container-id-1 div.sk-estimator input.sk-toggleable__control:checked~label.sk-toggleable__label {background-color: #d4ebff;}#sk-container-id-1 div.sk-label input.sk-toggleable__control:checked~label.sk-toggleable__label {background-color: #d4ebff;}#sk-container-id-1 input.sk-hidden--visually {border: 0;clip: rect(1px 1px 1px 1px);clip: rect(1px, 1px, 1px, 1px);height: 1px;margin: -1px;overflow: hidden;padding: 0;position: absolute;width: 1px;}#sk-container-id-1 div.sk-estimator {font-family: monospace;background-color: #f0f8ff;border: 1px dotted black;border-radius: 0.25em;box-sizing: border-box;margin-bottom: 0.5em;}#sk-container-id-1 div.sk-estimator:hover {background-color: #d4ebff;}#sk-container-id-1 div.sk-parallel-item::after {content: \"\";width: 100%;border-bottom: 1px solid gray;flex-grow: 1;}#sk-container-id-1 div.sk-label:hover label.sk-toggleable__label {background-color: #d4ebff;}#sk-container-id-1 div.sk-serial::before {content: \"\";position: absolute;border-left: 1px solid gray;box-sizing: border-box;top: 0;bottom: 0;left: 50%;z-index: 0;}#sk-container-id-1 div.sk-serial {display: flex;flex-direction: column;align-items: center;background-color: white;padding-right: 0.2em;padding-left: 0.2em;position: relative;}#sk-container-id-1 div.sk-item {position: relative;z-index: 1;}#sk-container-id-1 div.sk-parallel {display: flex;align-items: stretch;justify-content: center;background-color: white;position: relative;}#sk-container-id-1 div.sk-item::before, #sk-container-id-1 div.sk-parallel-item::before {content: \"\";position: absolute;border-left: 1px solid gray;box-sizing: border-box;top: 0;bottom: 0;left: 50%;z-index: -1;}#sk-container-id-1 div.sk-parallel-item {display: flex;flex-direction: column;z-index: 1;position: relative;background-color: white;}#sk-container-id-1 div.sk-parallel-item:first-child::after {align-self: flex-end;width: 50%;}#sk-container-id-1 div.sk-parallel-item:last-child::after {align-self: flex-start;width: 50%;}#sk-container-id-1 div.sk-parallel-item:only-child::after {width: 0;}#sk-container-id-1 div.sk-dashed-wrapped {border: 1px dashed gray;margin: 0 0.4em 0.5em 0.4em;box-sizing: border-box;padding-bottom: 0.4em;background-color: white;}#sk-container-id-1 div.sk-label label {font-family: monospace;font-weight: bold;display: inline-block;line-height: 1.2em;}#sk-container-id-1 div.sk-label-container {text-align: center;}#sk-container-id-1 div.sk-container {/* jupyter's `normalize.less` sets `[hidden] { display: none; }` but bootstrap.min.css set `[hidden] { display: none !important; }` so we also need the `!important` here to be able to override the default hidden behavior on the sphinx rendered scikit-learn.org. See: https://github.com/scikit-learn/scikit-learn/issues/21755 */display: inline-block !important;position: relative;}#sk-container-id-1 div.sk-text-repr-fallback {display: none;}</style><div id=\"sk-container-id-1\" class=\"sk-top-container\"><div class=\"sk-text-repr-fallback\"><pre>XGBRegressor(base_score=None, booster=None, callbacks=None,\n",
       "             colsample_bylevel=None, colsample_bynode=None,\n",
       "             colsample_bytree=0.6705216911932783, device=None,\n",
       "             early_stopping_rounds=None, enable_categorical=False,\n",
       "             eval_metric=None, feature_types=None, gamma=None, grow_policy=None,\n",
       "             importance_type=None, interaction_constraints=None,\n",
       "             learning_rate=0.015456088221076969, max_bin=None,\n",
       "             max_cat_threshold=None, max_cat_to_onehot=None,\n",
       "             max_delta_step=None, max_depth=6, max_leaves=None,\n",
       "             min_child_weight=6, missing=nan, monotone_constraints=None,\n",
       "             multi_strategy=None, n_estimators=535, n_jobs=None,\n",
       "             num_parallel_tree=None, random_state=42, ...)</pre><b>In a Jupyter environment, please rerun this cell to show the HTML representation or trust the notebook. <br />On GitHub, the HTML representation is unable to render, please try loading this page with nbviewer.org.</b></div><div class=\"sk-container\" hidden><div class=\"sk-item\"><div class=\"sk-estimator sk-toggleable\"><input class=\"sk-toggleable__control sk-hidden--visually\" id=\"sk-estimator-id-1\" type=\"checkbox\" checked><label for=\"sk-estimator-id-1\" class=\"sk-toggleable__label sk-toggleable__label-arrow\">XGBRegressor</label><div class=\"sk-toggleable__content\"><pre>XGBRegressor(base_score=None, booster=None, callbacks=None,\n",
       "             colsample_bylevel=None, colsample_bynode=None,\n",
       "             colsample_bytree=0.6705216911932783, device=None,\n",
       "             early_stopping_rounds=None, enable_categorical=False,\n",
       "             eval_metric=None, feature_types=None, gamma=None, grow_policy=None,\n",
       "             importance_type=None, interaction_constraints=None,\n",
       "             learning_rate=0.015456088221076969, max_bin=None,\n",
       "             max_cat_threshold=None, max_cat_to_onehot=None,\n",
       "             max_delta_step=None, max_depth=6, max_leaves=None,\n",
       "             min_child_weight=6, missing=nan, monotone_constraints=None,\n",
       "             multi_strategy=None, n_estimators=535, n_jobs=None,\n",
       "             num_parallel_tree=None, random_state=42, ...)</pre></div></div></div></div></div>"
      ],
      "text/plain": [
       "XGBRegressor(base_score=None, booster=None, callbacks=None,\n",
       "             colsample_bylevel=None, colsample_bynode=None,\n",
       "             colsample_bytree=0.6705216911932783, device=None,\n",
       "             early_stopping_rounds=None, enable_categorical=False,\n",
       "             eval_metric=None, feature_types=None, gamma=None, grow_policy=None,\n",
       "             importance_type=None, interaction_constraints=None,\n",
       "             learning_rate=0.015456088221076969, max_bin=None,\n",
       "             max_cat_threshold=None, max_cat_to_onehot=None,\n",
       "             max_delta_step=None, max_depth=6, max_leaves=None,\n",
       "             min_child_weight=6, missing=nan, monotone_constraints=None,\n",
       "             multi_strategy=None, n_estimators=535, n_jobs=None,\n",
       "             num_parallel_tree=None, random_state=42, ...)"
      ]
     },
     "execution_count": 14,
     "metadata": {},
     "output_type": "execute_result"
    }
   ],
   "source": [
    "from xgboost import XGBRegressor\n",
    "\n",
    "params = {\n",
    "    'max_depth': 6, \n",
    "    'min_child_weight': 6, \n",
    "    'learning_rate': 0.015456088221076969, \n",
    "    'n_estimators': 535, \n",
    "    'subsample': 0.25556380739804013, \n",
    "    'colsample_bytree': 0.6705216911932783, \n",
    "    'random_state': 42\n",
    "}\n",
    "\n",
    "# Params found using Optuna\n",
    "model_xgb = XGBRegressor(**params)\n",
    "model_xgb.fit(x_train, y_train)"
   ]
  },
  {
   "cell_type": "markdown",
   "id": "e4376e8b",
   "metadata": {
    "papermill": {
     "duration": 0.006467,
     "end_time": "2024-01-13T04:58:37.319284",
     "exception": false,
     "start_time": "2024-01-13T04:58:37.312817",
     "status": "completed"
    },
    "tags": []
   },
   "source": [
    "# Evaluate"
   ]
  },
  {
   "cell_type": "code",
   "execution_count": 15,
   "id": "9ad7ed73",
   "metadata": {
    "execution": {
     "iopub.execute_input": "2024-01-13T04:58:37.334672Z",
     "iopub.status.busy": "2024-01-13T04:58:37.334345Z",
     "iopub.status.idle": "2024-01-13T04:58:38.245379Z",
     "shell.execute_reply": "2024-01-13T04:58:38.244381Z"
    },
    "papermill": {
     "duration": 0.921325,
     "end_time": "2024-01-13T04:58:38.247671",
     "exception": false,
     "start_time": "2024-01-13T04:58:37.326346",
     "status": "completed"
    },
    "tags": []
   },
   "outputs": [
    {
     "name": "stdout",
     "output_type": "stream",
     "text": [
      "Train: 0.8696\tDev: 0.871\n"
     ]
    }
   ],
   "source": [
    "models = [model_xgb]\n",
    "accu_rates = []\n",
    "\n",
    "for model in models:\n",
    "    accu_rates.append(evaluate(model))\n",
    "    \n",
    "# Best: [Train: 0.8701\tDev: 0.8651]"
   ]
  },
  {
   "cell_type": "code",
   "execution_count": 16,
   "id": "f04599a6",
   "metadata": {
    "execution": {
     "iopub.execute_input": "2024-01-13T04:58:38.262860Z",
     "iopub.status.busy": "2024-01-13T04:58:38.262530Z",
     "iopub.status.idle": "2024-01-13T04:58:38.266931Z",
     "shell.execute_reply": "2024-01-13T04:58:38.266102Z"
    },
    "papermill": {
     "duration": 0.014014,
     "end_time": "2024-01-13T04:58:38.268668",
     "exception": false,
     "start_time": "2024-01-13T04:58:38.254654",
     "status": "completed"
    },
    "tags": []
   },
   "outputs": [],
   "source": [
    "best_model = models[np.argmax(accu_rates)]"
   ]
  },
  {
   "cell_type": "markdown",
   "id": "df29e89a",
   "metadata": {
    "papermill": {
     "duration": 0.006598,
     "end_time": "2024-01-13T04:58:38.282934",
     "exception": false,
     "start_time": "2024-01-13T04:58:38.276336",
     "status": "completed"
    },
    "tags": []
   },
   "source": [
    "# Submit"
   ]
  },
  {
   "cell_type": "code",
   "execution_count": 17,
   "id": "8baac3ae",
   "metadata": {
    "execution": {
     "iopub.execute_input": "2024-01-13T04:58:38.351573Z",
     "iopub.status.busy": "2024-01-13T04:58:38.351208Z",
     "iopub.status.idle": "2024-01-13T04:58:39.143504Z",
     "shell.execute_reply": "2024-01-13T04:58:39.142271Z"
    },
    "papermill": {
     "duration": 0.85597,
     "end_time": "2024-01-13T04:58:39.145801",
     "exception": false,
     "start_time": "2024-01-13T04:58:38.289831",
     "status": "completed"
    },
    "tags": []
   },
   "outputs": [
    {
     "name": "stdout",
     "output_type": "stream",
     "text": [
      "*** PREVIEW with LABELS ***\n",
      "Age\n",
      "(32.8, 47.6]      66677\n",
      "(17.926, 32.8]    29148\n",
      "(47.6, 62.4]      12294\n",
      "(62.4, 77.2]       1829\n",
      "(77.2, 92.0]         75\n",
      "Name: count, dtype: int64\n",
      "AgeGroup (no labels) created\n",
      "\n",
      "*** PREVIEW with LABELS ***\n",
      "CreditScore\n",
      "(580, 670]    41333\n",
      "(670, 740]    34596\n",
      "(300, 580]    18723\n",
      "(740, 800]    10923\n",
      "(800, 850]     4448\n",
      "(0, 300]          0\n",
      "Name: count, dtype: int64\n",
      "CreditScoreGroup (no labels) created\n",
      "\n",
      "*** PREVIEW with LABELS ***\n",
      "EstimatedSalary\n",
      "(100000, 200000]    65148\n",
      "(50000, 100000]     31290\n",
      "(0, 50000]          13585\n",
      "Name: count, dtype: int64\n",
      "EstimatedSalaryGroup (no labels) created\n",
      "\n",
      "count    110023.000000\n",
      "mean          2.115039\n",
      "std          86.120211\n",
      "min           0.000000\n",
      "25%           0.000000\n",
      "50%           0.000000\n",
      "75%           0.978741\n",
      "max       10614.655440\n",
      "Name: BalanceToSalaryRatio, dtype: float64\n",
      "\n"
     ]
    }
   ],
   "source": [
    "test_data = pd.read_csv(\"/kaggle/input/playground-series-s4e1/test.csv\")\n",
    "test_data = engineer(test_data)\n",
    "test_data['Surname'] = le.transform(test_data['Surname'])\n",
    "\n",
    "x_test = pd.get_dummies(test_data.drop(columns=drop_cols_test)).astype('float32')\n",
    "\n",
    "x_test = scaler.transform(x_test)\n",
    "\n",
    "test_pred = best_model.predict(x_test)\n",
    "[test_pred] = test_pred.reshape(1, len(test_pred))\n",
    "output = pd.DataFrame({'id': test_data.id, 'Exited': test_pred})\n",
    "output.to_csv('submission.csv', index=False)"
   ]
  }
 ],
 "metadata": {
  "kaggle": {
   "accelerator": "none",
   "dataSources": [
    {
     "databundleVersionId": 7405009,
     "sourceId": 65711,
     "sourceType": "competition"
    },
    {
     "datasetId": 3191230,
     "sourceId": 5536933,
     "sourceType": "datasetVersion"
    }
   ],
   "dockerImageVersionId": 30626,
   "isGpuEnabled": false,
   "isInternetEnabled": true,
   "language": "python",
   "sourceType": "notebook"
  },
  "kernelspec": {
   "display_name": "Python 3",
   "language": "python",
   "name": "python3"
  },
  "language_info": {
   "codemirror_mode": {
    "name": "ipython",
    "version": 3
   },
   "file_extension": ".py",
   "mimetype": "text/x-python",
   "name": "python",
   "nbconvert_exporter": "python",
   "pygments_lexer": "ipython3",
   "version": "3.10.12"
  },
  "papermill": {
   "default_parameters": {},
   "duration": 15.673452,
   "end_time": "2024-01-13T04:58:39.675305",
   "environment_variables": {},
   "exception": null,
   "input_path": "__notebook__.ipynb",
   "output_path": "__notebook__.ipynb",
   "parameters": {},
   "start_time": "2024-01-13T04:58:24.001853",
   "version": "2.4.0"
  }
 },
 "nbformat": 4,
 "nbformat_minor": 5
}
