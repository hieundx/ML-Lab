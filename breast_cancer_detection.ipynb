{
 "cells": [
  {
   "cell_type": "code",
   "execution_count": 1,
   "id": "42b0e2d5-2544-44ef-924d-7124cfe85d3f",
   "metadata": {},
   "outputs": [],
   "source": [
    "import logistic_regression as logreg\n",
    "import numpy as np\n",
    "import matplotlib.pyplot as plt\n",
    "import math\n",
    "\n",
    "dtype=[\n",
    "        ('id', 'float'),\n",
    "        ('diagnosis', 'U1'),\n",
    "        ('radius_mean', 'float'),\n",
    "        ('texture_mean', 'float'),\n",
    "        ('perimeter_mean', 'float'),\n",
    "        ('area_mean', 'float'),\n",
    "        ('smoothness_mean', 'float'),\n",
    "        ('compactness_mean', 'float'),\n",
    "        ('concavity_mean', 'float'),\n",
    "        ('concave points_mean', 'float'),\n",
    "        ('symmetry_mean', 'float'),\n",
    "        ('fractal_dimension_mean', 'float'),\n",
    "        ('radius_se', 'float'),\n",
    "        ('texture_se', 'float'),\n",
    "        ('perimeter_se', 'float'),\n",
    "        ('area_se', 'float'),\n",
    "        ('smoothness_se', 'float'),\n",
    "        ('compactness_se', 'float'),\n",
    "        ('concavity_se', 'float'),\n",
    "        ('concave points_se', 'float'),\n",
    "        ('symmetry_se', 'float'),\n",
    "        ('fractal_dimension_se', 'float'),\n",
    "        ('radius_worst', 'float'),\n",
    "        ('texture_worst', 'float'),\n",
    "        ('perimeter_worst', 'float'),\n",
    "        ('area_worst', 'float'),\n",
    "        ('smoothness_worst', 'float'),\n",
    "        ('compactness_worst', 'float'),\n",
    "        ('concavity_worst', 'float'),\n",
    "        ('concave points_worst', 'float'),\n",
    "        ('symmetry_worst', 'float'),\n",
    "        ('fractal_dimension_worst', 'float')\n",
    "    ]\n",
    "\n",
    "features = list(map(lambda t: t[0], dtype[2:]))\n",
    "\n",
    "data = np.loadtxt(\n",
    "    './data/breast-cancer.csv',\n",
    "    delimiter=',',\n",
    "    skiprows=1,\n",
    "    dtype=dtype\n",
    ")"
   ]
  },
  {
   "cell_type": "code",
   "execution_count": 2,
   "id": "8c788670-f8b9-4e4b-a5ff-a0b99e86d1bb",
   "metadata": {},
   "outputs": [],
   "source": [
    "def convert(raw_data):\n",
    "    x_train = []\n",
    "    y_train = []\n",
    "    \n",
    "    for entry in raw_data:\n",
    "        item = list(entry)\n",
    "\n",
    "        # diagnosis is the 2nd column \n",
    "        y_train.append(1 if item[1] == 'M' else 0)\n",
    "\n",
    "        # training features start from 3rd column\n",
    "        x_train.append(item[2:])\n",
    "    return np.array(x_train), np.array(y_train)\n",
    "        "
   ]
  },
  {
   "cell_type": "code",
   "execution_count": 3,
   "id": "473cf512-c79a-4ce1-b02f-24375eb767ed",
   "metadata": {},
   "outputs": [],
   "source": [
    "x_train, y_train = convert(data)\n",
    "\n",
    "mu = np.mean(x_train)\n",
    "sigma = np.std(x_train)\n",
    "\n",
    "x_norm = (x_train - mu)/sigma"
   ]
  },
  {
   "cell_type": "code",
   "execution_count": 4,
   "id": "e4d54af8-b6a5-4157-8d7f-a551c23257d4",
   "metadata": {},
   "outputs": [
    {
     "name": "stdout",
     "output_type": "stream",
     "text": [
      "Training samples: (569, 30)\n",
      "Training targets: (569,)\n"
     ]
    }
   ],
   "source": [
    "print(f'Training samples: {x_train.shape}')\n",
    "print(f'Training targets: {y_train.shape}')"
   ]
  },
  {
   "cell_type": "code",
   "execution_count": 5,
   "id": "b9422d91-2876-404f-82c3-7e993e143c83",
   "metadata": {},
   "outputs": [
    {
     "name": "stdout",
     "output_type": "stream",
     "text": [
      "[0] 0.6656103166269052\n",
      "[100] 0.28820148670577156\n",
      "[200] 0.24195721726774697\n",
      "[300] 0.22292595894968456\n",
      "[400] 0.21216764140057312\n",
      "[500] 0.20507953661328462\n",
      "[600] 0.1999638584849844\n",
      "[700] 0.1960417743443401\n",
      "[800] 0.19290346368427752\n",
      "[900] 0.1903116929229144\n",
      "[ 0.57791135  0.65581861  0.14680386 -1.08981314  0.6751554   0.67743602\n",
      "  0.67907869  0.67692888  0.67479089  0.67503598  0.67737663  0.6707341\n",
      "  0.69318915  1.02297855  0.67540052  0.67583767  0.67598717  0.67552707\n",
      "  0.67536161  0.67543873  0.61126014  0.72893666  0.40926898  2.76492811\n",
      "  0.6755668   0.68377283  0.68661267  0.67841467  0.6761232   0.6757362 ] -2.4914214409478324\n"
     ]
    }
   ],
   "source": [
    "from importlib import reload\n",
    "reload(logreg)\n",
    "\n",
    "w_init = np.zeros(x_train.shape[1])\n",
    "b_init = 0.\n",
    "\n",
    "costs, w, b = logreg.fit(x_norm, y_train, w_init, b_init, 0.15, 1000)\n",
    "print(w, b)"
   ]
  },
  {
   "cell_type": "code",
   "execution_count": 6,
   "id": "595d97b1-1750-41f8-864c-65a1d2e2f162",
   "metadata": {},
   "outputs": [
    {
     "data": {
      "text/plain": [
       "[<matplotlib.lines.Line2D at 0x1d11004e450>]"
      ]
     },
     "execution_count": 6,
     "metadata": {},
     "output_type": "execute_result"
    },
    {
     "data": {
      "image/png": "[encoded data removed]",
      "text/plain": [
       "<Figure size 640x480 with 1 Axes>"
      ]
     },
     "metadata": {},
     "output_type": "display_data"
    }
   ],
   "source": [
    "# Visualize cost\n",
    "fig, ax = plt.subplots()\n",
    "\n",
    "ax.plot(costs)"
   ]
  },
  {
   "cell_type": "code",
   "execution_count": 7,
   "id": "e8c809be-3bd0-46ca-8364-2c8b8009febd",
   "metadata": {},
   "outputs": [],
   "source": [
    "def evaluate(y_pred, y_train, thresold = 0.5):\n",
    "    \n",
    "    # true positive\n",
    "    tp = 0\n",
    "    # false positive\n",
    "    fp = 0\n",
    "    # false negative\n",
    "    fn = 0\n",
    "    for i in range(len(y_pred)):\n",
    "        target = y_train[i]\n",
    "        pred = y_pred[i]\n",
    "\n",
    "        if (target == 1 and pred == 1) or (target == 0 and pred == 0):\n",
    "            tp += 1\n",
    "        elif target == 1 and pred == 0:\n",
    "            fn += 1\n",
    "        elif target == 0 and pred == 1:\n",
    "            fp += 1\n",
    "            \n",
    "    tp_rate = round(tp / (len(y_train)) * 100)\n",
    "    fp_rate = round(fp / (len(y_train)) * 100)\n",
    "    fn_rate = round(fn / (len(y_train)) * 100)\n",
    "\n",
    "    print(f'Accuracy: {tp_rate}%')\n",
    "    print(f'False positives: {fp_rate}%')\n",
    "    print(f'False negatives: {fn_rate}%')\n",
    "    \n",
    "    return tp_rate, fp_rate, fn_rate"
   ]
  },
  {
   "cell_type": "code",
   "execution_count": 8,
   "id": "b9f045db-fd42-480a-86a9-6fd803e65630",
   "metadata": {},
   "outputs": [
    {
     "name": "stdout",
     "output_type": "stream",
     "text": [
      "Accuracy: 92%\n",
      "False positives: 2%\n",
      "False negatives: 6%\n"
     ]
    },
    {
     "data": {
      "text/plain": [
       "(92, 2, 6)"
      ]
     },
     "execution_count": 8,
     "metadata": {},
     "output_type": "execute_result"
    }
   ],
   "source": [
    "# Adjust thresold to increase/decrease detection rate\n",
    "# lower threshold is better for breast cancer detection\n",
    "thresold = 0.5\n",
    "y_pred = list(map(lambda y: 1 if y>= thresold else 0, [logreg.model(x, w, b) for x in x_norm]))\n",
    "\n",
    "evaluate(y_pred, y_train, thresold)"
   ]
  },
  {
   "cell_type": "code",
   "execution_count": 10,
   "id": "969d7f12-c8bc-4658-84f0-ddb7a2662e49",
   "metadata": {},
   "outputs": [
    {
     "data": {
      "text/html": [
       "<style>#sk-container-id-1 {color: black;}#sk-container-id-1 pre{padding: 0;}#sk-container-id-1 div.sk-toggleable {background-color: white;}#sk-container-id-1 label.sk-toggleable__label {cursor: pointer;display: block;width: 100%;margin-bottom: 0;padding: 0.3em;box-sizing: border-box;text-align: center;}#sk-container-id-1 label.sk-toggleable__label-arrow:before {content: \"▸\";float: left;margin-right: 0.25em;color: #696969;}#sk-container-id-1 label.sk-toggleable__label-arrow:hover:before {color: black;}#sk-container-id-1 div.sk-estimator:hover label.sk-toggleable__label-arrow:before {color: black;}#sk-container-id-1 div.sk-toggleable__content {max-height: 0;max-width: 0;overflow: hidden;text-align: left;background-color: #f0f8ff;}#sk-container-id-1 div.sk-toggleable__content pre {margin: 0.2em;color: black;border-radius: 0.25em;background-color: #f0f8ff;}#sk-container-id-1 input.sk-toggleable__control:checked~div.sk-toggleable__content {max-height: 200px;max-width: 100%;overflow: auto;}#sk-container-id-1 input.sk-toggleable__control:checked~label.sk-toggleable__label-arrow:before {content: \"▾\";}#sk-container-id-1 div.sk-estimator input.sk-toggleable__control:checked~label.sk-toggleable__label {background-color: #d4ebff;}#sk-container-id-1 div.sk-label input.sk-toggleable__control:checked~label.sk-toggleable__label {background-color: #d4ebff;}#sk-container-id-1 input.sk-hidden--visually {border: 0;clip: rect(1px 1px 1px 1px);clip: rect(1px, 1px, 1px, 1px);height: 1px;margin: -1px;overflow: hidden;padding: 0;position: absolute;width: 1px;}#sk-container-id-1 div.sk-estimator {font-family: monospace;background-color: #f0f8ff;border: 1px dotted black;border-radius: 0.25em;box-sizing: border-box;margin-bottom: 0.5em;}#sk-container-id-1 div.sk-estimator:hover {background-color: #d4ebff;}#sk-container-id-1 div.sk-parallel-item::after {content: \"\";width: 100%;border-bottom: 1px solid gray;flex-grow: 1;}#sk-container-id-1 div.sk-label:hover label.sk-toggleable__label {background-color: #d4ebff;}#sk-container-id-1 div.sk-serial::before {content: \"\";position: absolute;border-left: 1px solid gray;box-sizing: border-box;top: 0;bottom: 0;left: 50%;z-index: 0;}#sk-container-id-1 div.sk-serial {display: flex;flex-direction: column;align-items: center;background-color: white;padding-right: 0.2em;padding-left: 0.2em;position: relative;}#sk-container-id-1 div.sk-item {position: relative;z-index: 1;}#sk-container-id-1 div.sk-parallel {display: flex;align-items: stretch;justify-content: center;background-color: white;position: relative;}#sk-container-id-1 div.sk-item::before, #sk-container-id-1 div.sk-parallel-item::before {content: \"\";position: absolute;border-left: 1px solid gray;box-sizing: border-box;top: 0;bottom: 0;left: 50%;z-index: -1;}#sk-container-id-1 div.sk-parallel-item {display: flex;flex-direction: column;z-index: 1;position: relative;background-color: white;}#sk-container-id-1 div.sk-parallel-item:first-child::after {align-self: flex-end;width: 50%;}#sk-container-id-1 div.sk-parallel-item:last-child::after {align-self: flex-start;width: 50%;}#sk-container-id-1 div.sk-parallel-item:only-child::after {width: 0;}#sk-container-id-1 div.sk-dashed-wrapped {border: 1px dashed gray;margin: 0 0.4em 0.5em 0.4em;box-sizing: border-box;padding-bottom: 0.4em;background-color: white;}#sk-container-id-1 div.sk-label label {font-family: monospace;font-weight: bold;display: inline-block;line-height: 1.2em;}#sk-container-id-1 div.sk-label-container {text-align: center;}#sk-container-id-1 div.sk-container {/* jupyter's `normalize.less` sets `[hidden] { display: none; }` but bootstrap.min.css set `[hidden] { display: none !important; }` so we also need the `!important` here to be able to override the default hidden behavior on the sphinx rendered scikit-learn.org. See: https://github.com/scikit-learn/scikit-learn/issues/21755 */display: inline-block !important;position: relative;}#sk-container-id-1 div.sk-text-repr-fallback {display: none;}</style><div id=\"sk-container-id-1\" class=\"sk-top-container\"><div class=\"sk-text-repr-fallback\"><pre>LogisticRegression()</pre><b>In a Jupyter environment, please rerun this cell to show the HTML representation or trust the notebook. <br />On GitHub, the HTML representation is unable to render, please try loading this page with nbviewer.org.</b></div><div class=\"sk-container\" hidden><div class=\"sk-item\"><div class=\"sk-estimator sk-toggleable\"><input class=\"sk-toggleable__control sk-hidden--visually\" id=\"sk-estimator-id-1\" type=\"checkbox\" checked><label for=\"sk-estimator-id-1\" class=\"sk-toggleable__label sk-toggleable__label-arrow\">LogisticRegression</label><div class=\"sk-toggleable__content\"><pre>LogisticRegression()</pre></div></div></div></div></div>"
      ],
      "text/plain": [
       "LogisticRegression()"
      ]
     },
     "execution_count": 10,
     "metadata": {},
     "output_type": "execute_result"
    }
   ],
   "source": [
    "from sklearn.linear_model import LogisticRegression\n",
    "sk_logreg = LogisticRegression()\n",
    "sk_logreg.fit(x_norm, y_train)"
   ]
  },
  {
   "cell_type": "code",
   "execution_count": 11,
   "id": "b1111f7a-e658-4887-b0c6-a39c87e4ac9e",
   "metadata": {},
   "outputs": [
    {
     "name": "stdout",
     "output_type": "stream",
     "text": [
      "Accuracy: 92%\n",
      "False positives: 2%\n",
      "False negatives: 6%\n"
     ]
    },
    {
     "data": {
      "text/plain": [
       "(92, 2, 6)"
      ]
     },
     "execution_count": 11,
     "metadata": {},
     "output_type": "execute_result"
    }
   ],
   "source": [
    "sk_y_pred = sk_logreg.predict(x_norm)\n",
    "evaluate(sk_y_pred, y_train)"
   ]
  }
 ],
 "metadata": {
  "kernelspec": {
   "display_name": "Python 3 (ipykernel)",
   "language": "python",
   "name": "python3"
  },
  "language_info": {
   "codemirror_mode": {
    "name": "ipython",
    "version": 3
   },
   "file_extension": ".py",
   "mimetype": "text/x-python",
   "name": "python",
   "nbconvert_exporter": "python",
   "pygments_lexer": "ipython3",
   "version": "3.11.7"
  }
 },
 "nbformat": 4,
 "nbformat_minor": 5
}
